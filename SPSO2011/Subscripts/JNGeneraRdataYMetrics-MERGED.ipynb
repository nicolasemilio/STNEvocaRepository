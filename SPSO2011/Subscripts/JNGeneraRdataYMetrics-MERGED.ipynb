{
 "cells": [
  {
   "cell_type": "code",
   "execution_count": 1,
   "id": "9fe29fae",
   "metadata": {},
   "outputs": [],
   "source": [
    "from os import mkdir\n",
    "import shutil\n",
    "import os\n",
    "from os import system"
   ]
  },
  {
   "cell_type": "code",
   "execution_count": 2,
   "id": "baabb5dd",
   "metadata": {},
   "outputs": [],
   "source": [
    "#Pres = ['1stPres', '2ndPres', '3rdPres']\n",
    "Pres = ['L1','L2','L3']\n",
    "\n",
    "Folder = 'STN_EvPS{}'\n",
    "\n",
    "Set = ['HYB','MUL','UNI']\n",
    "\n",
    "Pop = ['10', '20', '50']\n",
    "\n",
    "#RutaEjemplo: 1stPres/STN_EvPS10/P10_EVOCA.log_GA_FALL_S.out\n",
    "\n",
    "\n",
    "#Crear dentro de 1stPres -> Crear STN_P10/ y dentro crear una carpeta por categoria\n",
    "#copiar el archivo que corresponde\n",
    "#hacer Rscript Create.R nombreCarpeta 1\n",
    "#hacer Rscript metrics-alg.R nombreCarpeta-stn cat\n",
    "\n",
    "Prefix_file = 'P{}_'\n",
    "\n",
    "files = ['EVOCA.log_GA_FALL_S',\n",
    "'EVOCA.log_GA_Fnk_2_20_S',\n",
    "'EVOCA.log_GA_Fnk_2_38_S',\n",
    "'EVOCA.log_GA_Fnk_2_52_S',\n",
    "'EVOCA.log_GA_Fnk_3_20_S',\n",
    "'EVOCA.log_GA_Fnk_3_34_S',\n",
    "'EVOCA.log_GA_Fnk_3_48_S',\n",
    "'EVOCA.log_GA_Fnk_4_20_S',\n",
    "'EVOCA.log_GA_Fnk_4_30_S',\n",
    "'EVOCA.log_GA_Fnk_4_40_S',\n",
    "'EVOCA.log_GA_Fnk_5_20_S',\n",
    "'EVOCA.log_GA_Fnk_5_28_S',\n",
    "'EVOCA.log_GA_Fnk_5_38_S',\n",
    "'EVOCA.log_GA_Fnk_6_20_S',\n",
    "'EVOCA.log_GA_Fnk_6_26_S',\n",
    "'EVOCA.log_GA_Fnk_6_32_S']\n",
    "\n",
    "categories = ['ALL', '2_20', '2_38', '2_52', '3_20', '3_34', '3_48', '4_20', '4_30', '4_40','5_20','5_28','5_38','6_20','6_26','6_32']"
   ]
  },
  {
   "cell_type": "code",
   "execution_count": 3,
   "id": "f895f12a",
   "metadata": {},
   "outputs": [
    {
     "name": "stdout",
     "output_type": "stream",
     "text": [
      "Rscript merge.R Merged/L1_HYB\n"
     ]
    },
    {
     "name": "stderr",
     "output_type": "stream",
     "text": [
      "Loading required package: igraph\n",
      "\n",
      "Attaching package: ‘igraph’\n",
      "\n",
      "The following objects are masked from ‘package:stats’:\n",
      "\n",
      "    decompose, spectrum\n",
      "\n",
      "The following object is masked from ‘package:base’:\n",
      "\n",
      "    union\n",
      "\n",
      "Loading required package: dplyr\n",
      "\n",
      "Attaching package: ‘dplyr’\n",
      "\n",
      "The following objects are masked from ‘package:igraph’:\n",
      "\n",
      "    as_data_frame, groups, union\n",
      "\n",
      "The following objects are masked from ‘package:stats’:\n",
      "\n",
      "    filter, lag\n",
      "\n",
      "The following objects are masked from ‘package:base’:\n",
      "\n",
      "    intersect, setdiff, setequal, union\n",
      "\n",
      "Loading required package: tidyr\n",
      "\n",
      "Attaching package: ‘tidyr’\n",
      "\n",
      "The following object is masked from ‘package:igraph’:\n",
      "\n",
      "    crossing\n",
      "\n",
      "Warning message:\n",
      "package ‘igraph’ was built under R version 4.3.3 \n",
      "Warning message:\n",
      "`graph.union()` was deprecated in igraph 2.0.0.\n",
      "ℹ Please use `union.igraph()` instead. \n"
     ]
    },
    {
     "name": "stdout",
     "output_type": "stream",
     "text": [
      "Input folder:  Merged/L1_HYB \n",
      "[1] \"log\"\n",
      "[1] \"log\"\n",
      "[1] \"log\"\n",
      "Output file:  Merged/L1_HYB-merged.RData \n",
      "Rscript metrics-merged.R Merged/L1_HYB-merged.RData\n",
      "Input file:  Merged/L1_HYB-merged.RData \n"
     ]
    },
    {
     "name": "stderr",
     "output_type": "stream",
     "text": [
      "\n",
      "Attaching package: ‘igraph’\n",
      "\n",
      "The following objects are masked from ‘package:stats’:\n",
      "\n",
      "    decompose, spectrum\n",
      "\n",
      "The following object is masked from ‘package:base’:\n",
      "\n",
      "    union\n",
      "\n",
      "Warning message:\n",
      "package ‘igraph’ was built under R version 4.3.3 \n",
      "Loading required package: igraph\n"
     ]
    },
    {
     "name": "stdout",
     "output_type": "stream",
     "text": [
      "Output file:  Merged/L1_HYB-merged-metrics.csv \n",
      "Rscript merge.R Merged/L1_MUL\n"
     ]
    },
    {
     "name": "stderr",
     "output_type": "stream",
     "text": [
      "\n",
      "Attaching package: ‘igraph’\n",
      "\n",
      "The following objects are masked from ‘package:stats’:\n",
      "\n",
      "    decompose, spectrum\n",
      "\n",
      "The following object is masked from ‘package:base’:\n",
      "\n",
      "    union\n",
      "\n",
      "Loading required package: dplyr\n",
      "\n",
      "Attaching package: ‘dplyr’\n",
      "\n",
      "The following objects are masked from ‘package:igraph’:\n",
      "\n",
      "    as_data_frame, groups, union\n",
      "\n",
      "The following objects are masked from ‘package:stats’:\n",
      "\n",
      "    filter, lag\n",
      "\n",
      "The following objects are masked from ‘package:base’:\n",
      "\n",
      "    intersect, setdiff, setequal, union\n",
      "\n",
      "Loading required package: tidyr\n",
      "\n",
      "Attaching package: ‘tidyr’\n",
      "\n",
      "The following object is masked from ‘package:igraph’:\n",
      "\n",
      "    crossing\n",
      "\n",
      "Warning message:\n",
      "package ‘igraph’ was built under R version 4.3.3 \n"
     ]
    },
    {
     "name": "stdout",
     "output_type": "stream",
     "text": [
      "Input folder:  Merged/L1_MUL \n",
      "[1] \"log\"\n",
      "[1] \"log\"\n",
      "[1] \"log\"\n",
      "Output file:  Merged/L1_MUL-merged.RData \n"
     ]
    },
    {
     "name": "stderr",
     "output_type": "stream",
     "text": [
      "Warning message:\n",
      "`graph.union()` was deprecated in igraph 2.0.0.\n",
      "ℹ Please use `union.igraph()` instead. \n"
     ]
    },
    {
     "name": "stdout",
     "output_type": "stream",
     "text": [
      "Rscript metrics-merged.R Merged/L1_MUL-merged.RData\n",
      "Input file:  Merged/L1_MUL-merged.RData \n"
     ]
    },
    {
     "name": "stderr",
     "output_type": "stream",
     "text": [
      "\n",
      "Attaching package: ‘igraph’\n",
      "\n",
      "The following objects are masked from ‘package:stats’:\n",
      "\n",
      "    decompose, spectrum\n",
      "\n",
      "The following object is masked from ‘package:base’:\n",
      "\n",
      "    union\n",
      "\n",
      "Warning message:\n",
      "package ‘igraph’ was built under R version 4.3.3 \n",
      "Loading required package: igraph\n"
     ]
    },
    {
     "name": "stdout",
     "output_type": "stream",
     "text": [
      "Output file:  Merged/L1_MUL-merged-metrics.csv \n",
      "Rscript merge.R Merged/L1_UNI\n"
     ]
    },
    {
     "name": "stderr",
     "output_type": "stream",
     "text": [
      "\n",
      "Attaching package: ‘igraph’\n",
      "\n",
      "The following objects are masked from ‘package:stats’:\n",
      "\n",
      "    decompose, spectrum\n",
      "\n",
      "The following object is masked from ‘package:base’:\n",
      "\n",
      "    union\n",
      "\n",
      "Loading required package: dplyr\n",
      "\n",
      "Attaching package: ‘dplyr’\n",
      "\n",
      "The following objects are masked from ‘package:igraph’:\n",
      "\n",
      "    as_data_frame, groups, union\n",
      "\n",
      "The following objects are masked from ‘package:stats’:\n",
      "\n",
      "    filter, lag\n",
      "\n",
      "The following objects are masked from ‘package:base’:\n",
      "\n",
      "    intersect, setdiff, setequal, union\n",
      "\n",
      "Loading required package: tidyr\n",
      "\n",
      "Attaching package: ‘tidyr’\n",
      "\n",
      "The following object is masked from ‘package:igraph’:\n",
      "\n",
      "    crossing\n",
      "\n",
      "Warning message:\n",
      "package ‘igraph’ was built under R version 4.3.3 \n"
     ]
    },
    {
     "name": "stdout",
     "output_type": "stream",
     "text": [
      "Input folder:  Merged/L1_UNI \n",
      "[1] \"log\"\n",
      "[1] \"log\"\n",
      "[1] \"log\"\n"
     ]
    },
    {
     "name": "stderr",
     "output_type": "stream",
     "text": [
      "Warning message:\n",
      "`graph.union()` was deprecated in igraph 2.0.0.\n",
      "ℹ Please use `union.igraph()` instead. \n"
     ]
    },
    {
     "name": "stdout",
     "output_type": "stream",
     "text": [
      "Output file:  Merged/L1_UNI-merged.RData \n",
      "Rscript metrics-merged.R Merged/L1_UNI-merged.RData\n"
     ]
    },
    {
     "name": "stderr",
     "output_type": "stream",
     "text": [
      "\n",
      "Attaching package: ‘igraph’\n",
      "\n",
      "The following objects are masked from ‘package:stats’:\n",
      "\n",
      "    decompose, spectrum\n",
      "\n",
      "The following object is masked from ‘package:base’:\n",
      "\n",
      "    union\n",
      "\n",
      "Warning message:\n",
      "package ‘igraph’ was built under R version 4.3.3 \n",
      "Loading required package: igraph\n"
     ]
    },
    {
     "name": "stdout",
     "output_type": "stream",
     "text": [
      "Input file:  Merged/L1_UNI-merged.RData \n",
      "Output file:  Merged/L1_UNI-merged-metrics.csv \n",
      "Rscript merge.R Merged/L2_HYB\n"
     ]
    },
    {
     "name": "stderr",
     "output_type": "stream",
     "text": [
      "\n",
      "Attaching package: ‘igraph’\n",
      "\n",
      "The following objects are masked from ‘package:stats’:\n",
      "\n",
      "    decompose, spectrum\n",
      "\n",
      "The following object is masked from ‘package:base’:\n",
      "\n",
      "    union\n",
      "\n",
      "Loading required package: dplyr\n",
      "\n",
      "Attaching package: ‘dplyr’\n",
      "\n",
      "The following objects are masked from ‘package:igraph’:\n",
      "\n",
      "    as_data_frame, groups, union\n",
      "\n",
      "The following objects are masked from ‘package:stats’:\n",
      "\n",
      "    filter, lag\n",
      "\n",
      "The following objects are masked from ‘package:base’:\n",
      "\n",
      "    intersect, setdiff, setequal, union\n",
      "\n",
      "Loading required package: tidyr\n",
      "\n",
      "Attaching package: ‘tidyr’\n",
      "\n",
      "The following object is masked from ‘package:igraph’:\n",
      "\n",
      "    crossing\n",
      "\n",
      "Warning message:\n",
      "package ‘igraph’ was built under R version 4.3.3 \n"
     ]
    },
    {
     "name": "stdout",
     "output_type": "stream",
     "text": [
      "Input folder:  Merged/L2_HYB \n",
      "[1] \"log\"\n",
      "[1] \"log\"\n",
      "[1] \"log\"\n",
      "Output file:  Merged/L2_HYB-merged.RData \n"
     ]
    },
    {
     "name": "stderr",
     "output_type": "stream",
     "text": [
      "Warning message:\n",
      "`graph.union()` was deprecated in igraph 2.0.0.\n",
      "ℹ Please use `union.igraph()` instead. \n"
     ]
    },
    {
     "name": "stdout",
     "output_type": "stream",
     "text": [
      "Rscript metrics-merged.R Merged/L2_HYB-merged.RData\n",
      "Input file:  Merged/L2_HYB-merged.RData \n"
     ]
    },
    {
     "name": "stderr",
     "output_type": "stream",
     "text": [
      "\n",
      "Attaching package: ‘igraph’\n",
      "\n",
      "The following objects are masked from ‘package:stats’:\n",
      "\n",
      "    decompose, spectrum\n",
      "\n",
      "The following object is masked from ‘package:base’:\n",
      "\n",
      "    union\n",
      "\n",
      "Warning message:\n",
      "package ‘igraph’ was built under R version 4.3.3 \n",
      "Loading required package: igraph\n"
     ]
    },
    {
     "name": "stdout",
     "output_type": "stream",
     "text": [
      "Output file:  Merged/L2_HYB-merged-metrics.csv \n",
      "Rscript merge.R Merged/L2_MUL\n"
     ]
    },
    {
     "name": "stderr",
     "output_type": "stream",
     "text": [
      "\n",
      "Attaching package: ‘igraph’\n",
      "\n",
      "The following objects are masked from ‘package:stats’:\n",
      "\n",
      "    decompose, spectrum\n",
      "\n",
      "The following object is masked from ‘package:base’:\n",
      "\n",
      "    union\n",
      "\n",
      "Loading required package: dplyr\n",
      "\n",
      "Attaching package: ‘dplyr’\n",
      "\n",
      "The following objects are masked from ‘package:igraph’:\n",
      "\n",
      "    as_data_frame, groups, union\n",
      "\n",
      "The following objects are masked from ‘package:stats’:\n",
      "\n",
      "    filter, lag\n",
      "\n",
      "The following objects are masked from ‘package:base’:\n",
      "\n",
      "    intersect, setdiff, setequal, union\n",
      "\n",
      "Loading required package: tidyr\n",
      "\n",
      "Attaching package: ‘tidyr’\n",
      "\n",
      "The following object is masked from ‘package:igraph’:\n",
      "\n",
      "    crossing\n",
      "\n",
      "Warning message:\n",
      "package ‘igraph’ was built under R version 4.3.3 \n"
     ]
    },
    {
     "name": "stdout",
     "output_type": "stream",
     "text": [
      "Input folder:  Merged/L2_MUL \n",
      "[1] \"log\"\n",
      "[1] \"log\"\n",
      "[1] \"log\"\n",
      "Output file:  Merged/L2_MUL-merged.RData \n"
     ]
    },
    {
     "name": "stderr",
     "output_type": "stream",
     "text": [
      "Warning message:\n",
      "`graph.union()` was deprecated in igraph 2.0.0.\n",
      "ℹ Please use `union.igraph()` instead. \n"
     ]
    },
    {
     "name": "stdout",
     "output_type": "stream",
     "text": [
      "Rscript metrics-merged.R Merged/L2_MUL-merged.RData\n",
      "Input file:  Merged/L2_MUL-merged.RData \n"
     ]
    },
    {
     "name": "stderr",
     "output_type": "stream",
     "text": [
      "\n",
      "Attaching package: ‘igraph’\n",
      "\n",
      "The following objects are masked from ‘package:stats’:\n",
      "\n",
      "    decompose, spectrum\n",
      "\n",
      "The following object is masked from ‘package:base’:\n",
      "\n",
      "    union\n",
      "\n",
      "Warning message:\n",
      "package ‘igraph’ was built under R version 4.3.3 \n",
      "Loading required package: igraph\n"
     ]
    },
    {
     "name": "stdout",
     "output_type": "stream",
     "text": [
      "Output file:  Merged/L2_MUL-merged-metrics.csv \n",
      "Rscript merge.R Merged/L2_UNI\n"
     ]
    },
    {
     "name": "stderr",
     "output_type": "stream",
     "text": [
      "\n",
      "Attaching package: ‘igraph’\n",
      "\n",
      "The following objects are masked from ‘package:stats’:\n",
      "\n",
      "    decompose, spectrum\n",
      "\n",
      "The following object is masked from ‘package:base’:\n",
      "\n",
      "    union\n",
      "\n",
      "Loading required package: dplyr\n",
      "\n",
      "Attaching package: ‘dplyr’\n",
      "\n",
      "The following objects are masked from ‘package:igraph’:\n",
      "\n",
      "    as_data_frame, groups, union\n",
      "\n",
      "The following objects are masked from ‘package:stats’:\n",
      "\n",
      "    filter, lag\n",
      "\n",
      "The following objects are masked from ‘package:base’:\n",
      "\n",
      "    intersect, setdiff, setequal, union\n",
      "\n",
      "Loading required package: tidyr\n",
      "\n",
      "Attaching package: ‘tidyr’\n",
      "\n",
      "The following object is masked from ‘package:igraph’:\n",
      "\n",
      "    crossing\n",
      "\n",
      "Warning message:\n",
      "package ‘igraph’ was built under R version 4.3.3 \n"
     ]
    },
    {
     "name": "stdout",
     "output_type": "stream",
     "text": [
      "Input folder:  Merged/L2_UNI \n",
      "[1] \"log\"\n",
      "[1] \"log\"\n",
      "[1] \"log\"\n",
      "Output file:  Merged/L2_UNI-merged.RData \n"
     ]
    },
    {
     "name": "stderr",
     "output_type": "stream",
     "text": [
      "Warning message:\n",
      "`graph.union()` was deprecated in igraph 2.0.0.\n",
      "ℹ Please use `union.igraph()` instead. \n"
     ]
    },
    {
     "name": "stdout",
     "output_type": "stream",
     "text": [
      "Rscript metrics-merged.R Merged/L2_UNI-merged.RData\n",
      "Input file:  Merged/L2_UNI-merged.RData \n"
     ]
    },
    {
     "name": "stderr",
     "output_type": "stream",
     "text": [
      "\n",
      "Attaching package: ‘igraph’\n",
      "\n",
      "The following objects are masked from ‘package:stats’:\n",
      "\n",
      "    decompose, spectrum\n",
      "\n",
      "The following object is masked from ‘package:base’:\n",
      "\n",
      "    union\n",
      "\n",
      "Warning message:\n",
      "package ‘igraph’ was built under R version 4.3.3 \n",
      "Loading required package: igraph\n"
     ]
    },
    {
     "name": "stdout",
     "output_type": "stream",
     "text": [
      "Output file:  Merged/L2_UNI-merged-metrics.csv \n",
      "Rscript merge.R Merged/L3_HYB\n"
     ]
    },
    {
     "name": "stderr",
     "output_type": "stream",
     "text": [
      "\n",
      "Attaching package: ‘igraph’\n",
      "\n",
      "The following objects are masked from ‘package:stats’:\n",
      "\n",
      "    decompose, spectrum\n",
      "\n",
      "The following object is masked from ‘package:base’:\n",
      "\n",
      "    union\n",
      "\n",
      "Loading required package: dplyr\n",
      "\n",
      "Attaching package: ‘dplyr’\n",
      "\n",
      "The following objects are masked from ‘package:igraph’:\n",
      "\n",
      "    as_data_frame, groups, union\n",
      "\n",
      "The following objects are masked from ‘package:stats’:\n",
      "\n",
      "    filter, lag\n",
      "\n",
      "The following objects are masked from ‘package:base’:\n",
      "\n",
      "    intersect, setdiff, setequal, union\n",
      "\n",
      "Loading required package: tidyr\n",
      "\n",
      "Attaching package: ‘tidyr’\n",
      "\n",
      "The following object is masked from ‘package:igraph’:\n",
      "\n",
      "    crossing\n",
      "\n",
      "Warning message:\n",
      "package ‘igraph’ was built under R version 4.3.3 \n",
      "Warning message:\n",
      "`graph.union()` was deprecated in igraph 2.0.0.\n",
      "ℹ Please use `union.igraph()` instead. \n"
     ]
    },
    {
     "name": "stdout",
     "output_type": "stream",
     "text": [
      "Input folder:  Merged/L3_HYB \n",
      "[1] \"log\"\n",
      "[1] \"log\"\n",
      "[1] \"log\"\n",
      "Output file:  Merged/L3_HYB-merged.RData \n",
      "Rscript metrics-merged.R Merged/L3_HYB-merged.RData\n",
      "Input file:  Merged/L3_HYB-merged.RData \n"
     ]
    },
    {
     "name": "stderr",
     "output_type": "stream",
     "text": [
      "\n",
      "Attaching package: ‘igraph’\n",
      "\n",
      "The following objects are masked from ‘package:stats’:\n",
      "\n",
      "    decompose, spectrum\n",
      "\n",
      "The following object is masked from ‘package:base’:\n",
      "\n",
      "    union\n",
      "\n",
      "Warning message:\n",
      "package ‘igraph’ was built under R version 4.3.3 \n",
      "Loading required package: igraph\n"
     ]
    },
    {
     "name": "stdout",
     "output_type": "stream",
     "text": [
      "Output file:  Merged/L3_HYB-merged-metrics.csv \n",
      "Rscript merge.R Merged/L3_MUL\n"
     ]
    },
    {
     "name": "stderr",
     "output_type": "stream",
     "text": [
      "\n",
      "Attaching package: ‘igraph’\n",
      "\n",
      "The following objects are masked from ‘package:stats’:\n",
      "\n",
      "    decompose, spectrum\n",
      "\n",
      "The following object is masked from ‘package:base’:\n",
      "\n",
      "    union\n",
      "\n",
      "Loading required package: dplyr\n",
      "\n",
      "Attaching package: ‘dplyr’\n",
      "\n",
      "The following objects are masked from ‘package:igraph’:\n",
      "\n",
      "    as_data_frame, groups, union\n",
      "\n",
      "The following objects are masked from ‘package:stats’:\n",
      "\n",
      "    filter, lag\n",
      "\n",
      "The following objects are masked from ‘package:base’:\n",
      "\n",
      "    intersect, setdiff, setequal, union\n",
      "\n",
      "Loading required package: tidyr\n",
      "\n",
      "Attaching package: ‘tidyr’\n",
      "\n",
      "The following object is masked from ‘package:igraph’:\n",
      "\n",
      "    crossing\n",
      "\n",
      "Warning message:\n",
      "package ‘igraph’ was built under R version 4.3.3 \n"
     ]
    },
    {
     "name": "stdout",
     "output_type": "stream",
     "text": [
      "Input folder:  Merged/L3_MUL \n",
      "[1] \"log\"\n",
      "[1] \"log\"\n",
      "[1] \"log\"\n",
      "Output file:  Merged/L3_MUL-merged.RData \n"
     ]
    },
    {
     "name": "stderr",
     "output_type": "stream",
     "text": [
      "Warning message:\n",
      "`graph.union()` was deprecated in igraph 2.0.0.\n",
      "ℹ Please use `union.igraph()` instead. \n"
     ]
    },
    {
     "name": "stdout",
     "output_type": "stream",
     "text": [
      "Rscript metrics-merged.R Merged/L3_MUL-merged.RData\n",
      "Input file:  Merged/L3_MUL-merged.RData \n"
     ]
    },
    {
     "name": "stderr",
     "output_type": "stream",
     "text": [
      "\n",
      "Attaching package: ‘igraph’\n",
      "\n",
      "The following objects are masked from ‘package:stats’:\n",
      "\n",
      "    decompose, spectrum\n",
      "\n",
      "The following object is masked from ‘package:base’:\n",
      "\n",
      "    union\n",
      "\n",
      "Warning message:\n",
      "package ‘igraph’ was built under R version 4.3.3 \n",
      "Loading required package: igraph\n"
     ]
    },
    {
     "name": "stdout",
     "output_type": "stream",
     "text": [
      "Output file:  Merged/L3_MUL-merged-metrics.csv \n",
      "Rscript merge.R Merged/L3_UNI\n"
     ]
    },
    {
     "name": "stderr",
     "output_type": "stream",
     "text": [
      "\n",
      "Attaching package: ‘igraph’\n",
      "\n",
      "The following objects are masked from ‘package:stats’:\n",
      "\n",
      "    decompose, spectrum\n",
      "\n",
      "The following object is masked from ‘package:base’:\n",
      "\n",
      "    union\n",
      "\n",
      "Loading required package: dplyr\n",
      "\n",
      "Attaching package: ‘dplyr’\n",
      "\n",
      "The following objects are masked from ‘package:igraph’:\n",
      "\n",
      "    as_data_frame, groups, union\n",
      "\n",
      "The following objects are masked from ‘package:stats’:\n",
      "\n",
      "    filter, lag\n",
      "\n",
      "The following objects are masked from ‘package:base’:\n",
      "\n",
      "    intersect, setdiff, setequal, union\n",
      "\n",
      "Loading required package: tidyr\n",
      "\n",
      "Attaching package: ‘tidyr’\n",
      "\n",
      "The following object is masked from ‘package:igraph’:\n",
      "\n",
      "    crossing\n",
      "\n",
      "Warning message:\n",
      "package ‘igraph’ was built under R version 4.3.3 \n"
     ]
    },
    {
     "name": "stdout",
     "output_type": "stream",
     "text": [
      "Input folder:  Merged/L3_UNI \n",
      "[1] \"log\"\n",
      "[1] \"log\"\n",
      "[1] \"log\"\n",
      "Output file:  Merged/L3_UNI-merged.RData \n"
     ]
    },
    {
     "name": "stderr",
     "output_type": "stream",
     "text": [
      "Warning message:\n",
      "`graph.union()` was deprecated in igraph 2.0.0.\n",
      "ℹ Please use `union.igraph()` instead. \n"
     ]
    },
    {
     "name": "stdout",
     "output_type": "stream",
     "text": [
      "Rscript metrics-merged.R Merged/L3_UNI-merged.RData\n",
      "Input file:  Merged/L3_UNI-merged.RData \n",
      "Output file:  Merged/L3_UNI-merged-metrics.csv \n"
     ]
    },
    {
     "name": "stderr",
     "output_type": "stream",
     "text": [
      "\n",
      "Attaching package: ‘igraph’\n",
      "\n",
      "The following objects are masked from ‘package:stats’:\n",
      "\n",
      "    decompose, spectrum\n",
      "\n",
      "The following object is masked from ‘package:base’:\n",
      "\n",
      "    union\n",
      "\n",
      "Warning message:\n",
      "package ‘igraph’ was built under R version 4.3.3 \n"
     ]
    }
   ],
   "source": [
    "cont = 0\n",
    "mkdir(\"Merged\")\n",
    "for precision in Pres:\n",
    "    for insset in Set:\n",
    "        workpath = \"Merged/\"+precision + \"_\" + insset \n",
    "        mkdir(workpath)\n",
    "        for PS in Pop: \n",
    "            cont = 0 #RutaEjemplo: L1/HYB/10/log_set-HYB_tam-10_L1_rev.txt\n",
    "            #workpath = precision+'/STN_P'+PS\n",
    "            filepath = \"STNMetrics/\" + precision + \"_\" + insset + \"_\" + PS + \"-stn/\"\n",
    "            cat = precision + \"_\" + insset + \"_\" + PS\n",
    "            #mkdir(workpath)\n",
    "            files=os.listdir(filepath)\n",
    "            shutil.copy(filepath+files[0], workpath)\n",
    "        comando = 'Rscript merge.R {}'\n",
    "        comando = comando.format(workpath)\n",
    "        print(comando)\n",
    "        system(comando)\n",
    "        cat = precision + \"_\" + insset\n",
    "        comando = 'Rscript metrics-merged.R {}'\n",
    "        comando = comando.format('Merged/'+cat+'-merged.RData')\n",
    "        print(comando)\n",
    "        system(comando)\n",
    "\n",
    "        #comando = 'Rscript plot-merged.R {}'\n",
    "        #comando = comando.format('Merged/'+cat+'-merged.RData')\n",
    "        #print(comando)\n",
    "        #system(comando)\n",
    "        #cont += 1\n",
    "        #cont += 1\n",
    "            "
   ]
  },
  {
   "cell_type": "code",
   "execution_count": null,
   "id": "6ac88768-95a4-4042-9158-03867f630498",
   "metadata": {},
   "outputs": [],
   "source": [
    "comando = 'Rscript create.R {} 1'\n",
    "        comando = comando.format(workpath)\n",
    "        print(comando)\n",
    "        system(comando)\n",
    "        comando = 'Rscript metrics-alg.R {} {}'\n",
    "        comando = comando.format(workpath+'-stn',cat)\n",
    "        print(comando)\n",
    "        system(comando)\n",
    "        newfold = workpath + 'metrics'\n",
    "        mkdir(newfold)\n",
    "        comando = 'mv *.csv {}'\n",
    "        comando = comando.format(newfold)\n",
    "        system(comando)"
   ]
  },
  {
   "cell_type": "code",
   "execution_count": null,
   "id": "847dd422-51ce-46f1-96e8-5c4c80765faa",
   "metadata": {},
   "outputs": [],
   "source": [
    "#!/usr/bin/env bash\n",
    "\n",
    "from os import mkdir\n",
    "import shutil\n",
    "from os import system\n",
    "\n",
    "#Pres = ['1stPres', '2ndPres', '3rdPres']\n",
    "Pres = ['2nd']\n",
    "\n",
    "#categories = ['ALL', '2_20', '2_38', '2_52', '3_20', '3_34', '3_48', '4_20', '4_30', '4_40','5_20','5_28','5_38','6_20','6_26','6_32']\n",
    "\n",
    "categories = ['4_20']\n",
    "\n",
    "cont = 0\n",
    "for precision in Pres:\n",
    "        for cat in categories:\n",
    "            \n",
    "            path = precision + '/' + cat\n",
    "            comando = 'Rscript merge.R {}'\n",
    "            comando = comando.format(path)\n",
    "            print(comando)\n",
    "            system(comando)\n",
    "            \n",
    "            comando = 'Rscript metrics-merged.R {}'\n",
    "            comando = comando.format(path+'-merged.RData')\n",
    "            print(comando)\n",
    "            system(comando)\n",
    "            \n",
    "            comando = 'Rscript plot-merged.R {}'\n",
    "            comando = comando.format(precision+'/'+cat+'-merged.RData')\n",
    "            print(comando)\n",
    "            system(comando)\n",
    "            #cont += 1\n"
   ]
  },
  {
   "cell_type": "code",
   "execution_count": null,
   "id": "ab3e9a28",
   "metadata": {},
   "outputs": [],
   "source": [
    "            #!/usr/bin/env bash\n",
    "\n",
    "from os import mkdir\n",
    "import shutil\n",
    "from os import system\n",
    "\n",
    "#Pres = ['1stPres', '2ndPres', '3rdPres']\n",
    "Pres = ['1stPres','2ndPres', '3rdPres']\n",
    "\n",
    "Folder = 'STN_P{}'\n",
    "\n",
    "Pop = ['10', '20', '50']\n",
    "\n",
    "Prefix_file = 'P{}_'\n",
    "files = ['EVOCA.log_GA_FALL_S',\n",
    "'EVOCA.log_GA_Fnk_2_20_S',\n",
    "'EVOCA.log_GA_Fnk_2_38_S',\n",
    "'EVOCA.log_GA_Fnk_2_52_S',\n",
    "'EVOCA.log_GA_Fnk_3_20_S',\n",
    "'EVOCA.log_GA_Fnk_3_34_S',\n",
    "'EVOCA.log_GA_Fnk_3_48_S',\n",
    "'EVOCA.log_GA_Fnk_4_20_S',\n",
    "'EVOCA.log_GA_Fnk_4_30_S',\n",
    "'EVOCA.log_GA_Fnk_4_40_S',\n",
    "'EVOCA.log_GA_Fnk_5_20_S',\n",
    "'EVOCA.log_GA_Fnk_5_28_S',\n",
    "'EVOCA.log_GA_Fnk_5_38_S',\n",
    "'EVOCA.log_GA_Fnk_6_20_S',\n",
    "'EVOCA.log_GA_Fnk_6_26_S',\n",
    "'EVOCA.log_GA_Fnk_6_32_S']\n",
    "\n",
    "categories = ['ALL', '2_20', '2_38', '2_52', '3_20', '3_34', '3_48', '4_20', '4_30', '4_40','5_20','5_28','5_38','6_20','6_26','6_32']\n",
    "\n",
    "cont = 0\n",
    "for precision in Pres:\n",
    "        #cont = 0\n",
    "        workpath = precision+'/STN_Merged'\n",
    "        mkdir(workpath)\n",
    "        for cat in categories:\n",
    "            dirpath = workpath+'/'+cat\n",
    "            mkdir(dirpath)\n",
    "            for PS in Pop: \n",
    "                pathFolder = Folder.format(PS)\n",
    "                filepath = precision + '/' + pathFolder + '/' + cat+'-stn/*.RData'\n",
    "                comando = 'cp {} {}'\n",
    "                comando = comando.format(filepath,dirpath)\n",
    "                print(comando)\n",
    "                system(comando)\n",
    "                #shutil.copy(filepath, dirpath)\n",
    "            \n",
    "            comando = 'Rscript merge.R {}'\n",
    "            comando = comando.format(dirpath)\n",
    "            print(comando)\n",
    "            system(comando)\n",
    "            \n",
    "            comando = 'Rscript metrics-merged.R {}'\n",
    "            comando = comando.format(workpath+'/'+cat+'-merged.RData')\n",
    "            print(comando)\n",
    "            system(comando)\n",
    "            #cont += 1\n",
    "        \n",
    "        newfold = precision +'/STN_Merged' + '/metrics'\n",
    "        mkdir(newfold)\n",
    "        comando = 'mv STN_Merged/*.csv {}'\n",
    "        comando = comando.format('metrics/')\n",
    "        system(comando)\n"
   ]
  }
 ],
 "metadata": {
  "kernelspec": {
   "display_name": "Python 3 (ipykernel)",
   "language": "python",
   "name": "python3"
  },
  "language_info": {
   "codemirror_mode": {
    "name": "ipython",
    "version": 3
   },
   "file_extension": ".py",
   "mimetype": "text/x-python",
   "name": "python",
   "nbconvert_exporter": "python",
   "pygments_lexer": "ipython3",
   "version": "3.12.2"
  }
 },
 "nbformat": 4,
 "nbformat_minor": 5
}
