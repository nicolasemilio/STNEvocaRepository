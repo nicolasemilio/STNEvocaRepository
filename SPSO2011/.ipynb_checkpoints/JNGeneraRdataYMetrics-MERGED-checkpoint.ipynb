{
 "cells": [
  {
   "cell_type": "code",
   "execution_count": 7,
   "id": "9fe29fae",
   "metadata": {},
   "outputs": [],
   "source": [
    "from os import mkdir\n",
    "import shutil\n",
    "import os\n",
    "from os import system"
   ]
  },
  {
   "cell_type": "code",
   "execution_count": 8,
   "id": "baabb5dd",
   "metadata": {},
   "outputs": [],
   "source": [
    "#Pres = ['1stPres', '2ndPres', '3rdPres']\n",
    "Pres = ['L1','L2','L3']\n",
    "\n",
    "Folder = 'STN_EvPS{}'\n",
    "\n",
    "Set = ['HYB','MUL','UNI']\n",
    "\n",
    "Pop = ['10', '20', '50']\n",
    "\n",
    "#RutaEjemplo: 1stPres/STN_EvPS10/P10_EVOCA.log_GA_FALL_S.out\n",
    "\n",
    "\n",
    "#Crear dentro de 1stPres -> Crear STN_P10/ y dentro crear una carpeta por categoria\n",
    "#copiar el archivo que corresponde\n",
    "#hacer Rscript Create.R nombreCarpeta 1\n",
    "#hacer Rscript metrics-alg.R nombreCarpeta-stn cat\n",
    "\n",
    "Prefix_file = 'P{}_'\n",
    "\n",
    "files = ['EVOCA.log_GA_FALL_S',\n",
    "'EVOCA.log_GA_Fnk_2_20_S',\n",
    "'EVOCA.log_GA_Fnk_2_38_S',\n",
    "'EVOCA.log_GA_Fnk_2_52_S',\n",
    "'EVOCA.log_GA_Fnk_3_20_S',\n",
    "'EVOCA.log_GA_Fnk_3_34_S',\n",
    "'EVOCA.log_GA_Fnk_3_48_S',\n",
    "'EVOCA.log_GA_Fnk_4_20_S',\n",
    "'EVOCA.log_GA_Fnk_4_30_S',\n",
    "'EVOCA.log_GA_Fnk_4_40_S',\n",
    "'EVOCA.log_GA_Fnk_5_20_S',\n",
    "'EVOCA.log_GA_Fnk_5_28_S',\n",
    "'EVOCA.log_GA_Fnk_5_38_S',\n",
    "'EVOCA.log_GA_Fnk_6_20_S',\n",
    "'EVOCA.log_GA_Fnk_6_26_S',\n",
    "'EVOCA.log_GA_Fnk_6_32_S']\n",
    "\n",
    "categories = ['ALL', '2_20', '2_38', '2_52', '3_20', '3_34', '3_48', '4_20', '4_30', '4_40','5_20','5_28','5_38','6_20','6_26','6_32']"
   ]
  },
  {
   "cell_type": "code",
   "execution_count": 17,
   "id": "f895f12a",
   "metadata": {},
   "outputs": [
    {
     "name": "stdout",
     "output_type": "stream",
     "text": [
      "Rscript create.R STNMetrics/L1_HYB_10 1\n",
      "Output folder:  STNMetrics/L1_HYB_10-stn \n"
     ]
    },
    {
     "name": "stderr",
     "output_type": "stream",
     "text": [
      "Loading required package: igraph\n",
      "\n",
      "Attaching package: ‘igraph’\n",
      "\n",
      "The following objects are masked from ‘package:stats’:\n",
      "\n",
      "    decompose, spectrum\n",
      "\n",
      "The following object is masked from ‘package:base’:\n",
      "\n",
      "    union\n",
      "\n",
      "Loading required package: plyr\n",
      "Warning message:\n",
      "package ‘igraph’ was built under R version 4.3.3 \n"
     ]
    },
    {
     "name": "stdout",
     "output_type": "stream",
     "text": [
      "Best value in data: 27.7348 \n",
      "Number of runs in data: 10 \n",
      "[1] \"STNMetrics/L1_HYB_10/log_set-HYB_tam-10_L1_rev.txt\"\n",
      "[1] \"Number of nodes in the STNs created:\"\n",
      "[1] 3059\n",
      "Rscript metrics-alg.R STNMetrics/L1_HYB_10-stn L1_HYB_10\n"
     ]
    },
    {
     "name": "stderr",
     "output_type": "stream",
     "text": [
      "\n",
      "Attaching package: ‘igraph’\n",
      "\n",
      "The following objects are masked from ‘package:stats’:\n",
      "\n",
      "    decompose, spectrum\n",
      "\n",
      "The following object is masked from ‘package:base’:\n",
      "\n",
      "    union\n",
      "\n",
      "Warning message:\n",
      "package ‘igraph’ was built under R version 4.3.3 \n",
      "Loading required package: igraph\n"
     ]
    },
    {
     "name": "stdout",
     "output_type": "stream",
     "text": [
      "[1] \"log_set-HYB_tam-10_L1_rev_stn.RData\"\n",
      "Rscript create.R STNMetrics/L1_HYB_20 1\n",
      "Output folder:  STNMetrics/L1_HYB_20-stn \n"
     ]
    },
    {
     "name": "stderr",
     "output_type": "stream",
     "text": [
      "\n",
      "Attaching package: ‘igraph’\n",
      "\n",
      "The following objects are masked from ‘package:stats’:\n",
      "\n",
      "    decompose, spectrum\n",
      "\n",
      "The following object is masked from ‘package:base’:\n",
      "\n",
      "    union\n",
      "\n",
      "Loading required package: plyr\n",
      "Warning message:\n",
      "package ‘igraph’ was built under R version 4.3.3 \n"
     ]
    },
    {
     "name": "stdout",
     "output_type": "stream",
     "text": [
      "Best value in data: 19.82 \n",
      "Number of runs in data: 10 \n",
      "[1] \"STNMetrics/L1_HYB_20/log_set-HYB_tam-20_L1_rev.txt\"\n",
      "[1] \"Number of nodes in the STNs created:\"\n",
      "[1] 3970\n",
      "Rscript metrics-alg.R STNMetrics/L1_HYB_20-stn L1_HYB_20\n"
     ]
    },
    {
     "name": "stderr",
     "output_type": "stream",
     "text": [
      "\n",
      "Attaching package: ‘igraph’\n",
      "\n",
      "The following objects are masked from ‘package:stats’:\n",
      "\n",
      "    decompose, spectrum\n",
      "\n",
      "The following object is masked from ‘package:base’:\n",
      "\n",
      "    union\n",
      "\n",
      "Warning message:\n",
      "package ‘igraph’ was built under R version 4.3.3 \n",
      "Loading required package: igraph\n"
     ]
    },
    {
     "name": "stdout",
     "output_type": "stream",
     "text": [
      "[1] \"log_set-HYB_tam-20_L1_rev_stn.RData\"\n",
      "Rscript create.R STNMetrics/L1_HYB_50 1\n",
      "Output folder:  STNMetrics/L1_HYB_50-stn \n"
     ]
    },
    {
     "name": "stderr",
     "output_type": "stream",
     "text": [
      "\n",
      "Attaching package: ‘igraph’\n",
      "\n",
      "The following objects are masked from ‘package:stats’:\n",
      "\n",
      "    decompose, spectrum\n",
      "\n",
      "The following object is masked from ‘package:base’:\n",
      "\n",
      "    union\n",
      "\n",
      "Loading required package: plyr\n",
      "Warning message:\n",
      "package ‘igraph’ was built under R version 4.3.3 \n"
     ]
    },
    {
     "name": "stdout",
     "output_type": "stream",
     "text": [
      "Best value in data: 23.7139 \n",
      "Number of runs in data: 10 \n",
      "[1] \"STNMetrics/L1_HYB_50/log_set-HYB_tam-50_L1_rev.txt\"\n",
      "[1] \"Number of nodes in the STNs created:\"\n",
      "[1] 3628\n",
      "Rscript metrics-alg.R STNMetrics/L1_HYB_50-stn L1_HYB_50\n"
     ]
    },
    {
     "name": "stderr",
     "output_type": "stream",
     "text": [
      "\n",
      "Attaching package: ‘igraph’\n",
      "\n",
      "The following objects are masked from ‘package:stats’:\n",
      "\n",
      "    decompose, spectrum\n",
      "\n",
      "The following object is masked from ‘package:base’:\n",
      "\n",
      "    union\n",
      "\n",
      "Warning message:\n",
      "package ‘igraph’ was built under R version 4.3.3 \n",
      "Loading required package: igraph\n"
     ]
    },
    {
     "name": "stdout",
     "output_type": "stream",
     "text": [
      "[1] \"log_set-HYB_tam-50_L1_rev_stn.RData\"\n",
      "Rscript create.R STNMetrics/L1_MUL_10 1\n",
      "Output folder:  STNMetrics/L1_MUL_10-stn \n"
     ]
    },
    {
     "name": "stderr",
     "output_type": "stream",
     "text": [
      "\n",
      "Attaching package: ‘igraph’\n",
      "\n",
      "The following objects are masked from ‘package:stats’:\n",
      "\n",
      "    decompose, spectrum\n",
      "\n",
      "The following object is masked from ‘package:base’:\n",
      "\n",
      "    union\n",
      "\n",
      "Loading required package: plyr\n",
      "Warning message:\n",
      "package ‘igraph’ was built under R version 4.3.3 \n"
     ]
    },
    {
     "name": "stdout",
     "output_type": "stream",
     "text": [
      "Best value in data: 0.364384 \n",
      "Number of runs in data: 10 \n",
      "[1] \"STNMetrics/L1_MUL_10/log_set-MUL_tam-10_L1_rev.txt\"\n",
      "[1] \"Number of nodes in the STNs created:\"\n",
      "[1] 3215\n",
      "Rscript metrics-alg.R STNMetrics/L1_MUL_10-stn L1_MUL_10\n"
     ]
    },
    {
     "name": "stderr",
     "output_type": "stream",
     "text": [
      "\n",
      "Attaching package: ‘igraph’\n",
      "\n",
      "The following objects are masked from ‘package:stats’:\n",
      "\n",
      "    decompose, spectrum\n",
      "\n",
      "The following object is masked from ‘package:base’:\n",
      "\n",
      "    union\n",
      "\n",
      "Warning message:\n",
      "package ‘igraph’ was built under R version 4.3.3 \n",
      "Loading required package: igraph\n"
     ]
    },
    {
     "name": "stdout",
     "output_type": "stream",
     "text": [
      "[1] \"log_set-MUL_tam-10_L1_rev_stn.RData\"\n",
      "Rscript create.R STNMetrics/L1_MUL_20 1\n",
      "Output folder:  STNMetrics/L1_MUL_20-stn \n"
     ]
    },
    {
     "name": "stderr",
     "output_type": "stream",
     "text": [
      "\n",
      "Attaching package: ‘igraph’\n",
      "\n",
      "The following objects are masked from ‘package:stats’:\n",
      "\n",
      "    decompose, spectrum\n",
      "\n",
      "The following object is masked from ‘package:base’:\n",
      "\n",
      "    union\n",
      "\n",
      "Loading required package: plyr\n",
      "Warning message:\n",
      "package ‘igraph’ was built under R version 4.3.3 \n"
     ]
    },
    {
     "name": "stdout",
     "output_type": "stream",
     "text": [
      "Best value in data: 0.501802 \n",
      "Number of runs in data: 10 \n",
      "[1] \"STNMetrics/L1_MUL_20/log_set-MUL_tam-20_L1_rev.txt\"\n",
      "[1] \"Number of nodes in the STNs created:\"\n",
      "[1] 3721\n",
      "Rscript metrics-alg.R STNMetrics/L1_MUL_20-stn L1_MUL_20\n"
     ]
    },
    {
     "name": "stderr",
     "output_type": "stream",
     "text": [
      "\n",
      "Attaching package: ‘igraph’\n",
      "\n",
      "The following objects are masked from ‘package:stats’:\n",
      "\n",
      "    decompose, spectrum\n",
      "\n",
      "The following object is masked from ‘package:base’:\n",
      "\n",
      "    union\n",
      "\n",
      "Warning message:\n",
      "package ‘igraph’ was built under R version 4.3.3 \n",
      "Loading required package: igraph\n"
     ]
    },
    {
     "name": "stdout",
     "output_type": "stream",
     "text": [
      "[1] \"log_set-MUL_tam-20_L1_rev_stn.RData\"\n",
      "Rscript create.R STNMetrics/L1_MUL_50 1\n",
      "Output folder:  STNMetrics/L1_MUL_50-stn \n"
     ]
    },
    {
     "name": "stderr",
     "output_type": "stream",
     "text": [
      "\n",
      "Attaching package: ‘igraph’\n",
      "\n",
      "The following objects are masked from ‘package:stats’:\n",
      "\n",
      "    decompose, spectrum\n",
      "\n",
      "The following object is masked from ‘package:base’:\n",
      "\n",
      "    union\n",
      "\n",
      "Loading required package: plyr\n",
      "Warning message:\n",
      "package ‘igraph’ was built under R version 4.3.3 \n"
     ]
    },
    {
     "name": "stdout",
     "output_type": "stream",
     "text": [
      "Best value in data: 0.319163 \n",
      "Number of runs in data: 10 \n",
      "[1] \"STNMetrics/L1_MUL_50/log_set-MUL_tam-50_L1_rev.txt\"\n",
      "[1] \"Number of nodes in the STNs created:\"\n",
      "[1] 3659\n",
      "Rscript metrics-alg.R STNMetrics/L1_MUL_50-stn L1_MUL_50\n"
     ]
    },
    {
     "name": "stderr",
     "output_type": "stream",
     "text": [
      "\n",
      "Attaching package: ‘igraph’\n",
      "\n",
      "The following objects are masked from ‘package:stats’:\n",
      "\n",
      "    decompose, spectrum\n",
      "\n",
      "The following object is masked from ‘package:base’:\n",
      "\n",
      "    union\n",
      "\n",
      "Warning message:\n",
      "package ‘igraph’ was built under R version 4.3.3 \n",
      "Loading required package: igraph\n"
     ]
    },
    {
     "name": "stdout",
     "output_type": "stream",
     "text": [
      "[1] \"log_set-MUL_tam-50_L1_rev_stn.RData\"\n",
      "Rscript create.R STNMetrics/L1_UNI_10 1\n",
      "Output folder:  STNMetrics/L1_UNI_10-stn \n"
     ]
    },
    {
     "name": "stderr",
     "output_type": "stream",
     "text": [
      "\n",
      "Attaching package: ‘igraph’\n",
      "\n",
      "The following objects are masked from ‘package:stats’:\n",
      "\n",
      "    decompose, spectrum\n",
      "\n",
      "The following object is masked from ‘package:base’:\n",
      "\n",
      "    union\n",
      "\n",
      "Loading required package: plyr\n",
      "Warning message:\n",
      "package ‘igraph’ was built under R version 4.3.3 \n"
     ]
    },
    {
     "name": "stdout",
     "output_type": "stream",
     "text": [
      "Best value in data: 1.21513 \n",
      "Number of runs in data: 10 \n",
      "[1] \"STNMetrics/L1_UNI_10/log_set-UNI_tam-10_L1_rev.txt\"\n",
      "[1] \"Number of nodes in the STNs created:\"\n",
      "[1] 3199\n",
      "Rscript metrics-alg.R STNMetrics/L1_UNI_10-stn L1_UNI_10\n"
     ]
    },
    {
     "name": "stderr",
     "output_type": "stream",
     "text": [
      "\n",
      "Attaching package: ‘igraph’\n",
      "\n",
      "The following objects are masked from ‘package:stats’:\n",
      "\n",
      "    decompose, spectrum\n",
      "\n",
      "The following object is masked from ‘package:base’:\n",
      "\n",
      "    union\n",
      "\n",
      "Warning message:\n",
      "package ‘igraph’ was built under R version 4.3.3 \n",
      "Loading required package: igraph\n"
     ]
    },
    {
     "name": "stdout",
     "output_type": "stream",
     "text": [
      "[1] \"log_set-UNI_tam-10_L1_rev_stn.RData\"\n",
      "Rscript create.R STNMetrics/L1_UNI_20 1\n",
      "Output folder:  STNMetrics/L1_UNI_20-stn \n"
     ]
    },
    {
     "name": "stderr",
     "output_type": "stream",
     "text": [
      "\n",
      "Attaching package: ‘igraph’\n",
      "\n",
      "The following objects are masked from ‘package:stats’:\n",
      "\n",
      "    decompose, spectrum\n",
      "\n",
      "The following object is masked from ‘package:base’:\n",
      "\n",
      "    union\n",
      "\n",
      "Loading required package: plyr\n",
      "Warning message:\n",
      "package ‘igraph’ was built under R version 4.3.3 \n"
     ]
    },
    {
     "name": "stdout",
     "output_type": "stream",
     "text": [
      "Best value in data: 1.0618 \n",
      "Number of runs in data: 10 \n",
      "[1] \"STNMetrics/L1_UNI_20/log_set-UNI_tam-20_L1_rev.txt\"\n",
      "[1] \"Number of nodes in the STNs created:\"\n",
      "[1] 3949\n",
      "Rscript metrics-alg.R STNMetrics/L1_UNI_20-stn L1_UNI_20\n"
     ]
    },
    {
     "name": "stderr",
     "output_type": "stream",
     "text": [
      "\n",
      "Attaching package: ‘igraph’\n",
      "\n",
      "The following objects are masked from ‘package:stats’:\n",
      "\n",
      "    decompose, spectrum\n",
      "\n",
      "The following object is masked from ‘package:base’:\n",
      "\n",
      "    union\n",
      "\n",
      "Warning message:\n",
      "package ‘igraph’ was built under R version 4.3.3 \n",
      "Loading required package: igraph\n"
     ]
    },
    {
     "name": "stdout",
     "output_type": "stream",
     "text": [
      "[1] \"log_set-UNI_tam-20_L1_rev_stn.RData\"\n",
      "Rscript create.R STNMetrics/L1_UNI_50 1\n",
      "Output folder:  STNMetrics/L1_UNI_50-stn \n"
     ]
    },
    {
     "name": "stderr",
     "output_type": "stream",
     "text": [
      "\n",
      "Attaching package: ‘igraph’\n",
      "\n",
      "The following objects are masked from ‘package:stats’:\n",
      "\n",
      "    decompose, spectrum\n",
      "\n",
      "The following object is masked from ‘package:base’:\n",
      "\n",
      "    union\n",
      "\n",
      "Loading required package: plyr\n",
      "Warning message:\n",
      "package ‘igraph’ was built under R version 4.3.3 \n"
     ]
    },
    {
     "name": "stdout",
     "output_type": "stream",
     "text": [
      "Best value in data: 1.04007 \n",
      "Number of runs in data: 10 \n",
      "[1] \"STNMetrics/L1_UNI_50/log_set-UNI_tam-50_L1_rev.txt\"\n",
      "[1] \"Number of nodes in the STNs created:\"\n",
      "[1] 3600\n",
      "Rscript metrics-alg.R STNMetrics/L1_UNI_50-stn L1_UNI_50\n"
     ]
    },
    {
     "name": "stderr",
     "output_type": "stream",
     "text": [
      "\n",
      "Attaching package: ‘igraph’\n",
      "\n",
      "The following objects are masked from ‘package:stats’:\n",
      "\n",
      "    decompose, spectrum\n",
      "\n",
      "The following object is masked from ‘package:base’:\n",
      "\n",
      "    union\n",
      "\n",
      "Warning message:\n",
      "package ‘igraph’ was built under R version 4.3.3 \n",
      "Loading required package: igraph\n"
     ]
    },
    {
     "name": "stdout",
     "output_type": "stream",
     "text": [
      "[1] \"log_set-UNI_tam-50_L1_rev_stn.RData\"\n",
      "Rscript create.R STNMetrics/L2_HYB_10 1\n",
      "Output folder:  STNMetrics/L2_HYB_10-stn \n"
     ]
    },
    {
     "name": "stderr",
     "output_type": "stream",
     "text": [
      "\n",
      "Attaching package: ‘igraph’\n",
      "\n",
      "The following objects are masked from ‘package:stats’:\n",
      "\n",
      "    decompose, spectrum\n",
      "\n",
      "The following object is masked from ‘package:base’:\n",
      "\n",
      "    union\n",
      "\n",
      "Loading required package: plyr\n",
      "Warning message:\n",
      "package ‘igraph’ was built under R version 4.3.3 \n"
     ]
    },
    {
     "name": "stdout",
     "output_type": "stream",
     "text": [
      "Best value in data: 27.7348 \n",
      "Number of runs in data: 10 \n",
      "[1] \"STNMetrics/L2_HYB_10/log_set-HYB_tam-10_L2_rev.txt\"\n",
      "[1] \"Number of nodes in the STNs created:\"\n",
      "[1] 2934\n",
      "Rscript metrics-alg.R STNMetrics/L2_HYB_10-stn L2_HYB_10\n"
     ]
    },
    {
     "name": "stderr",
     "output_type": "stream",
     "text": [
      "\n",
      "Attaching package: ‘igraph’\n",
      "\n",
      "The following objects are masked from ‘package:stats’:\n",
      "\n",
      "    decompose, spectrum\n",
      "\n",
      "The following object is masked from ‘package:base’:\n",
      "\n",
      "    union\n",
      "\n",
      "Warning message:\n",
      "package ‘igraph’ was built under R version 4.3.3 \n",
      "Loading required package: igraph\n"
     ]
    },
    {
     "name": "stdout",
     "output_type": "stream",
     "text": [
      "[1] \"log_set-HYB_tam-10_L2_rev_stn.RData\"\n",
      "Rscript create.R STNMetrics/L2_HYB_20 1\n",
      "Output folder:  STNMetrics/L2_HYB_20-stn \n"
     ]
    },
    {
     "name": "stderr",
     "output_type": "stream",
     "text": [
      "\n",
      "Attaching package: ‘igraph’\n",
      "\n",
      "The following objects are masked from ‘package:stats’:\n",
      "\n",
      "    decompose, spectrum\n",
      "\n",
      "The following object is masked from ‘package:base’:\n",
      "\n",
      "    union\n",
      "\n",
      "Loading required package: plyr\n",
      "Warning message:\n",
      "package ‘igraph’ was built under R version 4.3.3 \n"
     ]
    },
    {
     "name": "stdout",
     "output_type": "stream",
     "text": [
      "Best value in data: 19.82 \n",
      "Number of runs in data: 10 \n",
      "[1] \"STNMetrics/L2_HYB_20/log_set-HYB_tam-20_L2_rev.txt\"\n",
      "[1] \"Number of nodes in the STNs created:\"\n",
      "[1] 3841\n",
      "Rscript metrics-alg.R STNMetrics/L2_HYB_20-stn L2_HYB_20\n"
     ]
    },
    {
     "name": "stderr",
     "output_type": "stream",
     "text": [
      "\n",
      "Attaching package: ‘igraph’\n",
      "\n",
      "The following objects are masked from ‘package:stats’:\n",
      "\n",
      "    decompose, spectrum\n",
      "\n",
      "The following object is masked from ‘package:base’:\n",
      "\n",
      "    union\n",
      "\n",
      "Warning message:\n",
      "package ‘igraph’ was built under R version 4.3.3 \n",
      "Loading required package: igraph\n"
     ]
    },
    {
     "name": "stdout",
     "output_type": "stream",
     "text": [
      "[1] \"log_set-HYB_tam-20_L2_rev_stn.RData\"\n",
      "Rscript create.R STNMetrics/L2_HYB_50 1\n",
      "Output folder:  STNMetrics/L2_HYB_50-stn \n"
     ]
    },
    {
     "name": "stderr",
     "output_type": "stream",
     "text": [
      "\n",
      "Attaching package: ‘igraph’\n",
      "\n",
      "The following objects are masked from ‘package:stats’:\n",
      "\n",
      "    decompose, spectrum\n",
      "\n",
      "The following object is masked from ‘package:base’:\n",
      "\n",
      "    union\n",
      "\n",
      "Loading required package: plyr\n",
      "Warning message:\n",
      "package ‘igraph’ was built under R version 4.3.3 \n"
     ]
    },
    {
     "name": "stdout",
     "output_type": "stream",
     "text": [
      "Best value in data: 23.7139 \n",
      "Number of runs in data: 10 \n",
      "[1] \"STNMetrics/L2_HYB_50/log_set-HYB_tam-50_L2_rev.txt\"\n",
      "[1] \"Number of nodes in the STNs created:\"\n",
      "[1] 3592\n",
      "Rscript metrics-alg.R STNMetrics/L2_HYB_50-stn L2_HYB_50\n"
     ]
    },
    {
     "name": "stderr",
     "output_type": "stream",
     "text": [
      "\n",
      "Attaching package: ‘igraph’\n",
      "\n",
      "The following objects are masked from ‘package:stats’:\n",
      "\n",
      "    decompose, spectrum\n",
      "\n",
      "The following object is masked from ‘package:base’:\n",
      "\n",
      "    union\n",
      "\n",
      "Warning message:\n",
      "package ‘igraph’ was built under R version 4.3.3 \n",
      "Loading required package: igraph\n"
     ]
    },
    {
     "name": "stdout",
     "output_type": "stream",
     "text": [
      "[1] \"log_set-HYB_tam-50_L2_rev_stn.RData\"\n",
      "Rscript create.R STNMetrics/L2_MUL_10 1\n",
      "Output folder:  STNMetrics/L2_MUL_10-stn \n"
     ]
    },
    {
     "name": "stderr",
     "output_type": "stream",
     "text": [
      "\n",
      "Attaching package: ‘igraph’\n",
      "\n",
      "The following objects are masked from ‘package:stats’:\n",
      "\n",
      "    decompose, spectrum\n",
      "\n",
      "The following object is masked from ‘package:base’:\n",
      "\n",
      "    union\n",
      "\n",
      "Loading required package: plyr\n",
      "Warning message:\n",
      "package ‘igraph’ was built under R version 4.3.3 \n"
     ]
    },
    {
     "name": "stdout",
     "output_type": "stream",
     "text": [
      "Best value in data: 0.364384 \n",
      "Number of runs in data: 10 \n",
      "[1] \"STNMetrics/L2_MUL_10/log_set-MUL_tam-10_L2_rev.txt\"\n",
      "[1] \"Number of nodes in the STNs created:\"\n",
      "[1] 3047\n",
      "Rscript metrics-alg.R STNMetrics/L2_MUL_10-stn L2_MUL_10\n"
     ]
    },
    {
     "name": "stderr",
     "output_type": "stream",
     "text": [
      "\n",
      "Attaching package: ‘igraph’\n",
      "\n",
      "The following objects are masked from ‘package:stats’:\n",
      "\n",
      "    decompose, spectrum\n",
      "\n",
      "The following object is masked from ‘package:base’:\n",
      "\n",
      "    union\n",
      "\n",
      "Warning message:\n",
      "package ‘igraph’ was built under R version 4.3.3 \n",
      "Loading required package: igraph\n"
     ]
    },
    {
     "name": "stdout",
     "output_type": "stream",
     "text": [
      "[1] \"log_set-MUL_tam-10_L2_rev_stn.RData\"\n",
      "Rscript create.R STNMetrics/L2_MUL_20 1\n",
      "Output folder:  STNMetrics/L2_MUL_20-stn \n"
     ]
    },
    {
     "name": "stderr",
     "output_type": "stream",
     "text": [
      "\n",
      "Attaching package: ‘igraph’\n",
      "\n",
      "The following objects are masked from ‘package:stats’:\n",
      "\n",
      "    decompose, spectrum\n",
      "\n",
      "The following object is masked from ‘package:base’:\n",
      "\n",
      "    union\n",
      "\n",
      "Loading required package: plyr\n",
      "Warning message:\n",
      "package ‘igraph’ was built under R version 4.3.3 \n"
     ]
    },
    {
     "name": "stdout",
     "output_type": "stream",
     "text": [
      "Best value in data: 0.501802 \n",
      "Number of runs in data: 10 \n",
      "[1] \"STNMetrics/L2_MUL_20/log_set-MUL_tam-20_L2_rev.txt\"\n",
      "[1] \"Number of nodes in the STNs created:\"\n",
      "[1] 3661\n",
      "Rscript metrics-alg.R STNMetrics/L2_MUL_20-stn L2_MUL_20\n"
     ]
    },
    {
     "name": "stderr",
     "output_type": "stream",
     "text": [
      "\n",
      "Attaching package: ‘igraph’\n",
      "\n",
      "The following objects are masked from ‘package:stats’:\n",
      "\n",
      "    decompose, spectrum\n",
      "\n",
      "The following object is masked from ‘package:base’:\n",
      "\n",
      "    union\n",
      "\n",
      "Warning message:\n",
      "package ‘igraph’ was built under R version 4.3.3 \n",
      "Loading required package: igraph\n"
     ]
    },
    {
     "name": "stdout",
     "output_type": "stream",
     "text": [
      "[1] \"log_set-MUL_tam-20_L2_rev_stn.RData\"\n",
      "Rscript create.R STNMetrics/L2_MUL_50 1\n",
      "Output folder:  STNMetrics/L2_MUL_50-stn \n"
     ]
    },
    {
     "name": "stderr",
     "output_type": "stream",
     "text": [
      "\n",
      "Attaching package: ‘igraph’\n",
      "\n",
      "The following objects are masked from ‘package:stats’:\n",
      "\n",
      "    decompose, spectrum\n",
      "\n",
      "The following object is masked from ‘package:base’:\n",
      "\n",
      "    union\n",
      "\n",
      "Loading required package: plyr\n",
      "Warning message:\n",
      "package ‘igraph’ was built under R version 4.3.3 \n"
     ]
    },
    {
     "name": "stdout",
     "output_type": "stream",
     "text": [
      "Best value in data: 0.319163 \n",
      "Number of runs in data: 10 \n",
      "[1] \"STNMetrics/L2_MUL_50/log_set-MUL_tam-50_L2_rev.txt\"\n",
      "[1] \"Number of nodes in the STNs created:\"\n",
      "[1] 3625\n",
      "Rscript metrics-alg.R STNMetrics/L2_MUL_50-stn L2_MUL_50\n"
     ]
    },
    {
     "name": "stderr",
     "output_type": "stream",
     "text": [
      "\n",
      "Attaching package: ‘igraph’\n",
      "\n",
      "The following objects are masked from ‘package:stats’:\n",
      "\n",
      "    decompose, spectrum\n",
      "\n",
      "The following object is masked from ‘package:base’:\n",
      "\n",
      "    union\n",
      "\n",
      "Warning message:\n",
      "package ‘igraph’ was built under R version 4.3.3 \n",
      "Loading required package: igraph\n"
     ]
    },
    {
     "name": "stdout",
     "output_type": "stream",
     "text": [
      "[1] \"log_set-MUL_tam-50_L2_rev_stn.RData\"\n",
      "Rscript create.R STNMetrics/L2_UNI_10 1\n",
      "Output folder:  STNMetrics/L2_UNI_10-stn \n"
     ]
    },
    {
     "name": "stderr",
     "output_type": "stream",
     "text": [
      "\n",
      "Attaching package: ‘igraph’\n",
      "\n",
      "The following objects are masked from ‘package:stats’:\n",
      "\n",
      "    decompose, spectrum\n",
      "\n",
      "The following object is masked from ‘package:base’:\n",
      "\n",
      "    union\n",
      "\n",
      "Loading required package: plyr\n",
      "Warning message:\n",
      "package ‘igraph’ was built under R version 4.3.3 \n"
     ]
    },
    {
     "name": "stdout",
     "output_type": "stream",
     "text": [
      "Best value in data: 1.21513 \n",
      "Number of runs in data: 10 \n",
      "[1] \"STNMetrics/L2_UNI_10/log_set-UNI_tam-10_L2_rev.txt\"\n",
      "[1] \"Number of nodes in the STNs created:\"\n",
      "[1] 2992\n",
      "Rscript metrics-alg.R STNMetrics/L2_UNI_10-stn L2_UNI_10\n"
     ]
    },
    {
     "name": "stderr",
     "output_type": "stream",
     "text": [
      "\n",
      "Attaching package: ‘igraph’\n",
      "\n",
      "The following objects are masked from ‘package:stats’:\n",
      "\n",
      "    decompose, spectrum\n",
      "\n",
      "The following object is masked from ‘package:base’:\n",
      "\n",
      "    union\n",
      "\n",
      "Warning message:\n",
      "package ‘igraph’ was built under R version 4.3.3 \n",
      "Loading required package: igraph\n"
     ]
    },
    {
     "name": "stdout",
     "output_type": "stream",
     "text": [
      "[1] \"log_set-UNI_tam-10_L2_rev_stn.RData\"\n",
      "Rscript create.R STNMetrics/L2_UNI_20 1\n",
      "Output folder:  STNMetrics/L2_UNI_20-stn \n"
     ]
    },
    {
     "name": "stderr",
     "output_type": "stream",
     "text": [
      "\n",
      "Attaching package: ‘igraph’\n",
      "\n",
      "The following objects are masked from ‘package:stats’:\n",
      "\n",
      "    decompose, spectrum\n",
      "\n",
      "The following object is masked from ‘package:base’:\n",
      "\n",
      "    union\n",
      "\n",
      "Loading required package: plyr\n",
      "Warning message:\n",
      "package ‘igraph’ was built under R version 4.3.3 \n"
     ]
    },
    {
     "name": "stdout",
     "output_type": "stream",
     "text": [
      "Best value in data: 1.0618 \n",
      "Number of runs in data: 10 \n",
      "[1] \"STNMetrics/L2_UNI_20/log_set-UNI_tam-20_L2_rev.txt\"\n",
      "[1] \"Number of nodes in the STNs created:\"\n",
      "[1] 3845\n",
      "Rscript metrics-alg.R STNMetrics/L2_UNI_20-stn L2_UNI_20\n"
     ]
    },
    {
     "name": "stderr",
     "output_type": "stream",
     "text": [
      "\n",
      "Attaching package: ‘igraph’\n",
      "\n",
      "The following objects are masked from ‘package:stats’:\n",
      "\n",
      "    decompose, spectrum\n",
      "\n",
      "The following object is masked from ‘package:base’:\n",
      "\n",
      "    union\n",
      "\n",
      "Warning message:\n",
      "package ‘igraph’ was built under R version 4.3.3 \n",
      "Loading required package: igraph\n"
     ]
    },
    {
     "name": "stdout",
     "output_type": "stream",
     "text": [
      "[1] \"log_set-UNI_tam-20_L2_rev_stn.RData\"\n",
      "Rscript create.R STNMetrics/L2_UNI_50 1\n",
      "Output folder:  STNMetrics/L2_UNI_50-stn \n"
     ]
    },
    {
     "name": "stderr",
     "output_type": "stream",
     "text": [
      "\n",
      "Attaching package: ‘igraph’\n",
      "\n",
      "The following objects are masked from ‘package:stats’:\n",
      "\n",
      "    decompose, spectrum\n",
      "\n",
      "The following object is masked from ‘package:base’:\n",
      "\n",
      "    union\n",
      "\n",
      "Loading required package: plyr\n",
      "Warning message:\n",
      "package ‘igraph’ was built under R version 4.3.3 \n"
     ]
    },
    {
     "name": "stdout",
     "output_type": "stream",
     "text": [
      "Best value in data: 1.04007 \n",
      "Number of runs in data: 10 \n",
      "[1] \"STNMetrics/L2_UNI_50/log_set-UNI_tam-50_L2_rev.txt\"\n",
      "[1] \"Number of nodes in the STNs created:\"\n",
      "[1] 3562\n",
      "Rscript metrics-alg.R STNMetrics/L2_UNI_50-stn L2_UNI_50\n"
     ]
    },
    {
     "name": "stderr",
     "output_type": "stream",
     "text": [
      "\n",
      "Attaching package: ‘igraph’\n",
      "\n",
      "The following objects are masked from ‘package:stats’:\n",
      "\n",
      "    decompose, spectrum\n",
      "\n",
      "The following object is masked from ‘package:base’:\n",
      "\n",
      "    union\n",
      "\n",
      "Warning message:\n",
      "package ‘igraph’ was built under R version 4.3.3 \n",
      "Loading required package: igraph\n"
     ]
    },
    {
     "name": "stdout",
     "output_type": "stream",
     "text": [
      "[1] \"log_set-UNI_tam-50_L2_rev_stn.RData\"\n",
      "Rscript create.R STNMetrics/L3_HYB_10 1\n",
      "Output folder:  STNMetrics/L3_HYB_10-stn \n"
     ]
    },
    {
     "name": "stderr",
     "output_type": "stream",
     "text": [
      "\n",
      "Attaching package: ‘igraph’\n",
      "\n",
      "The following objects are masked from ‘package:stats’:\n",
      "\n",
      "    decompose, spectrum\n",
      "\n",
      "The following object is masked from ‘package:base’:\n",
      "\n",
      "    union\n",
      "\n",
      "Loading required package: plyr\n",
      "Warning message:\n",
      "package ‘igraph’ was built under R version 4.3.3 \n"
     ]
    },
    {
     "name": "stdout",
     "output_type": "stream",
     "text": [
      "Best value in data: 27.7348 \n",
      "Number of runs in data: 10 \n",
      "[1] \"STNMetrics/L3_HYB_10/log_set-HYB_tam-10_L3_rev.txt\"\n",
      "[1] \"Number of nodes in the STNs created:\"\n",
      "[1] 2705\n",
      "Rscript metrics-alg.R STNMetrics/L3_HYB_10-stn L3_HYB_10\n"
     ]
    },
    {
     "name": "stderr",
     "output_type": "stream",
     "text": [
      "\n",
      "Attaching package: ‘igraph’\n",
      "\n",
      "The following objects are masked from ‘package:stats’:\n",
      "\n",
      "    decompose, spectrum\n",
      "\n",
      "The following object is masked from ‘package:base’:\n",
      "\n",
      "    union\n",
      "\n",
      "Warning message:\n",
      "package ‘igraph’ was built under R version 4.3.3 \n",
      "Loading required package: igraph\n"
     ]
    },
    {
     "name": "stdout",
     "output_type": "stream",
     "text": [
      "[1] \"log_set-HYB_tam-10_L3_rev_stn.RData\"\n",
      "Rscript create.R STNMetrics/L3_HYB_20 1\n",
      "Output folder:  STNMetrics/L3_HYB_20-stn \n"
     ]
    },
    {
     "name": "stderr",
     "output_type": "stream",
     "text": [
      "\n",
      "Attaching package: ‘igraph’\n",
      "\n",
      "The following objects are masked from ‘package:stats’:\n",
      "\n",
      "    decompose, spectrum\n",
      "\n",
      "The following object is masked from ‘package:base’:\n",
      "\n",
      "    union\n",
      "\n",
      "Loading required package: plyr\n",
      "Warning message:\n",
      "package ‘igraph’ was built under R version 4.3.3 \n"
     ]
    },
    {
     "name": "stdout",
     "output_type": "stream",
     "text": [
      "Best value in data: 19.82 \n",
      "Number of runs in data: 10 \n",
      "[1] \"STNMetrics/L3_HYB_20/log_set-HYB_tam-20_L3_rev.txt\"\n",
      "[1] \"Number of nodes in the STNs created:\"\n",
      "[1] 3586\n",
      "Rscript metrics-alg.R STNMetrics/L3_HYB_20-stn L3_HYB_20\n"
     ]
    },
    {
     "name": "stderr",
     "output_type": "stream",
     "text": [
      "\n",
      "Attaching package: ‘igraph’\n",
      "\n",
      "The following objects are masked from ‘package:stats’:\n",
      "\n",
      "    decompose, spectrum\n",
      "\n",
      "The following object is masked from ‘package:base’:\n",
      "\n",
      "    union\n",
      "\n",
      "Warning message:\n",
      "package ‘igraph’ was built under R version 4.3.3 \n",
      "Loading required package: igraph\n"
     ]
    },
    {
     "name": "stdout",
     "output_type": "stream",
     "text": [
      "[1] \"log_set-HYB_tam-20_L3_rev_stn.RData\"\n",
      "Rscript create.R STNMetrics/L3_HYB_50 1\n",
      "Output folder:  STNMetrics/L3_HYB_50-stn \n"
     ]
    },
    {
     "name": "stderr",
     "output_type": "stream",
     "text": [
      "\n",
      "Attaching package: ‘igraph’\n",
      "\n",
      "The following objects are masked from ‘package:stats’:\n",
      "\n",
      "    decompose, spectrum\n",
      "\n",
      "The following object is masked from ‘package:base’:\n",
      "\n",
      "    union\n",
      "\n",
      "Loading required package: plyr\n",
      "Warning message:\n",
      "package ‘igraph’ was built under R version 4.3.3 \n"
     ]
    },
    {
     "name": "stdout",
     "output_type": "stream",
     "text": [
      "Best value in data: 23.7139 \n",
      "Number of runs in data: 10 \n",
      "[1] \"STNMetrics/L3_HYB_50/log_set-HYB_tam-50_L3_rev.txt\"\n",
      "[1] \"Number of nodes in the STNs created:\"\n",
      "[1] 3484\n",
      "Rscript metrics-alg.R STNMetrics/L3_HYB_50-stn L3_HYB_50\n"
     ]
    },
    {
     "name": "stderr",
     "output_type": "stream",
     "text": [
      "\n",
      "Attaching package: ‘igraph’\n",
      "\n",
      "The following objects are masked from ‘package:stats’:\n",
      "\n",
      "    decompose, spectrum\n",
      "\n",
      "The following object is masked from ‘package:base’:\n",
      "\n",
      "    union\n",
      "\n",
      "Warning message:\n",
      "package ‘igraph’ was built under R version 4.3.3 \n",
      "Loading required package: igraph\n"
     ]
    },
    {
     "name": "stdout",
     "output_type": "stream",
     "text": [
      "[1] \"log_set-HYB_tam-50_L3_rev_stn.RData\"\n",
      "Rscript create.R STNMetrics/L3_MUL_10 1\n",
      "Output folder:  STNMetrics/L3_MUL_10-stn \n"
     ]
    },
    {
     "name": "stderr",
     "output_type": "stream",
     "text": [
      "\n",
      "Attaching package: ‘igraph’\n",
      "\n",
      "The following objects are masked from ‘package:stats’:\n",
      "\n",
      "    decompose, spectrum\n",
      "\n",
      "The following object is masked from ‘package:base’:\n",
      "\n",
      "    union\n",
      "\n",
      "Loading required package: plyr\n",
      "Warning message:\n",
      "package ‘igraph’ was built under R version 4.3.3 \n"
     ]
    },
    {
     "name": "stdout",
     "output_type": "stream",
     "text": [
      "Best value in data: 0.364384 \n",
      "Number of runs in data: 10 \n",
      "[1] \"STNMetrics/L3_MUL_10/log_set-MUL_tam-10_L3_rev.txt\"\n",
      "[1] \"Number of nodes in the STNs created:\"\n",
      "[1] 2850\n",
      "Rscript metrics-alg.R STNMetrics/L3_MUL_10-stn L3_MUL_10\n"
     ]
    },
    {
     "name": "stderr",
     "output_type": "stream",
     "text": [
      "\n",
      "Attaching package: ‘igraph’\n",
      "\n",
      "The following objects are masked from ‘package:stats’:\n",
      "\n",
      "    decompose, spectrum\n",
      "\n",
      "The following object is masked from ‘package:base’:\n",
      "\n",
      "    union\n",
      "\n",
      "Warning message:\n",
      "package ‘igraph’ was built under R version 4.3.3 \n",
      "Loading required package: igraph\n"
     ]
    },
    {
     "name": "stdout",
     "output_type": "stream",
     "text": [
      "[1] \"log_set-MUL_tam-10_L3_rev_stn.RData\"\n",
      "Rscript create.R STNMetrics/L3_MUL_20 1\n",
      "Output folder:  STNMetrics/L3_MUL_20-stn \n"
     ]
    },
    {
     "name": "stderr",
     "output_type": "stream",
     "text": [
      "\n",
      "Attaching package: ‘igraph’\n",
      "\n",
      "The following objects are masked from ‘package:stats’:\n",
      "\n",
      "    decompose, spectrum\n",
      "\n",
      "The following object is masked from ‘package:base’:\n",
      "\n",
      "    union\n",
      "\n",
      "Loading required package: plyr\n",
      "Warning message:\n",
      "package ‘igraph’ was built under R version 4.3.3 \n"
     ]
    },
    {
     "name": "stdout",
     "output_type": "stream",
     "text": [
      "Best value in data: 0.501802 \n",
      "Number of runs in data: 10 \n",
      "[1] \"STNMetrics/L3_MUL_20/log_set-MUL_tam-20_L3_rev.txt\"\n",
      "[1] \"Number of nodes in the STNs created:\"\n",
      "[1] 3466\n",
      "Rscript metrics-alg.R STNMetrics/L3_MUL_20-stn L3_MUL_20\n"
     ]
    },
    {
     "name": "stderr",
     "output_type": "stream",
     "text": [
      "\n",
      "Attaching package: ‘igraph’\n",
      "\n",
      "The following objects are masked from ‘package:stats’:\n",
      "\n",
      "    decompose, spectrum\n",
      "\n",
      "The following object is masked from ‘package:base’:\n",
      "\n",
      "    union\n",
      "\n",
      "Warning message:\n",
      "package ‘igraph’ was built under R version 4.3.3 \n",
      "Loading required package: igraph\n"
     ]
    },
    {
     "name": "stdout",
     "output_type": "stream",
     "text": [
      "[1] \"log_set-MUL_tam-20_L3_rev_stn.RData\"\n",
      "Rscript create.R STNMetrics/L3_MUL_50 1\n",
      "Output folder:  STNMetrics/L3_MUL_50-stn \n"
     ]
    },
    {
     "name": "stderr",
     "output_type": "stream",
     "text": [
      "\n",
      "Attaching package: ‘igraph’\n",
      "\n",
      "The following objects are masked from ‘package:stats’:\n",
      "\n",
      "    decompose, spectrum\n",
      "\n",
      "The following object is masked from ‘package:base’:\n",
      "\n",
      "    union\n",
      "\n",
      "Loading required package: plyr\n",
      "Warning message:\n",
      "package ‘igraph’ was built under R version 4.3.3 \n"
     ]
    },
    {
     "name": "stdout",
     "output_type": "stream",
     "text": [
      "Best value in data: 0.319163 \n",
      "Number of runs in data: 10 \n",
      "[1] \"STNMetrics/L3_MUL_50/log_set-MUL_tam-50_L3_rev.txt\"\n",
      "[1] \"Number of nodes in the STNs created:\"\n",
      "[1] 3556\n",
      "Rscript metrics-alg.R STNMetrics/L3_MUL_50-stn L3_MUL_50\n"
     ]
    },
    {
     "name": "stderr",
     "output_type": "stream",
     "text": [
      "\n",
      "Attaching package: ‘igraph’\n",
      "\n",
      "The following objects are masked from ‘package:stats’:\n",
      "\n",
      "    decompose, spectrum\n",
      "\n",
      "The following object is masked from ‘package:base’:\n",
      "\n",
      "    union\n",
      "\n",
      "Warning message:\n",
      "package ‘igraph’ was built under R version 4.3.3 \n",
      "Loading required package: igraph\n"
     ]
    },
    {
     "name": "stdout",
     "output_type": "stream",
     "text": [
      "[1] \"log_set-MUL_tam-50_L3_rev_stn.RData\"\n",
      "Rscript create.R STNMetrics/L3_UNI_10 1\n",
      "Output folder:  STNMetrics/L3_UNI_10-stn \n"
     ]
    },
    {
     "name": "stderr",
     "output_type": "stream",
     "text": [
      "\n",
      "Attaching package: ‘igraph’\n",
      "\n",
      "The following objects are masked from ‘package:stats’:\n",
      "\n",
      "    decompose, spectrum\n",
      "\n",
      "The following object is masked from ‘package:base’:\n",
      "\n",
      "    union\n",
      "\n",
      "Loading required package: plyr\n",
      "Warning message:\n",
      "package ‘igraph’ was built under R version 4.3.3 \n"
     ]
    },
    {
     "name": "stdout",
     "output_type": "stream",
     "text": [
      "Best value in data: 1.21513 \n",
      "Number of runs in data: 10 \n",
      "[1] \"STNMetrics/L3_UNI_10/log_set-UNI_tam-10_L3_rev.txt\"\n",
      "[1] \"Number of nodes in the STNs created:\"\n",
      "[1] 2714\n",
      "Rscript metrics-alg.R STNMetrics/L3_UNI_10-stn L3_UNI_10\n"
     ]
    },
    {
     "name": "stderr",
     "output_type": "stream",
     "text": [
      "\n",
      "Attaching package: ‘igraph’\n",
      "\n",
      "The following objects are masked from ‘package:stats’:\n",
      "\n",
      "    decompose, spectrum\n",
      "\n",
      "The following object is masked from ‘package:base’:\n",
      "\n",
      "    union\n",
      "\n",
      "Warning message:\n",
      "package ‘igraph’ was built under R version 4.3.3 \n",
      "Loading required package: igraph\n"
     ]
    },
    {
     "name": "stdout",
     "output_type": "stream",
     "text": [
      "[1] \"log_set-UNI_tam-10_L3_rev_stn.RData\"\n",
      "Rscript create.R STNMetrics/L3_UNI_20 1\n",
      "Output folder:  STNMetrics/L3_UNI_20-stn \n"
     ]
    },
    {
     "name": "stderr",
     "output_type": "stream",
     "text": [
      "\n",
      "Attaching package: ‘igraph’\n",
      "\n",
      "The following objects are masked from ‘package:stats’:\n",
      "\n",
      "    decompose, spectrum\n",
      "\n",
      "The following object is masked from ‘package:base’:\n",
      "\n",
      "    union\n",
      "\n",
      "Loading required package: plyr\n",
      "Warning message:\n",
      "package ‘igraph’ was built under R version 4.3.3 \n"
     ]
    },
    {
     "name": "stdout",
     "output_type": "stream",
     "text": [
      "Best value in data: 1.0618 \n",
      "Number of runs in data: 10 \n",
      "[1] \"STNMetrics/L3_UNI_20/log_set-UNI_tam-20_L3_rev.txt\"\n",
      "[1] \"Number of nodes in the STNs created:\"\n",
      "[1] 3667\n",
      "Rscript metrics-alg.R STNMetrics/L3_UNI_20-stn L3_UNI_20\n"
     ]
    },
    {
     "name": "stderr",
     "output_type": "stream",
     "text": [
      "\n",
      "Attaching package: ‘igraph’\n",
      "\n",
      "The following objects are masked from ‘package:stats’:\n",
      "\n",
      "    decompose, spectrum\n",
      "\n",
      "The following object is masked from ‘package:base’:\n",
      "\n",
      "    union\n",
      "\n",
      "Warning message:\n",
      "package ‘igraph’ was built under R version 4.3.3 \n",
      "Loading required package: igraph\n"
     ]
    },
    {
     "name": "stdout",
     "output_type": "stream",
     "text": [
      "[1] \"log_set-UNI_tam-20_L3_rev_stn.RData\"\n",
      "Rscript create.R STNMetrics/L3_UNI_50 1\n",
      "Output folder:  STNMetrics/L3_UNI_50-stn \n"
     ]
    },
    {
     "name": "stderr",
     "output_type": "stream",
     "text": [
      "\n",
      "Attaching package: ‘igraph’\n",
      "\n",
      "The following objects are masked from ‘package:stats’:\n",
      "\n",
      "    decompose, spectrum\n",
      "\n",
      "The following object is masked from ‘package:base’:\n",
      "\n",
      "    union\n",
      "\n",
      "Loading required package: plyr\n",
      "Warning message:\n",
      "package ‘igraph’ was built under R version 4.3.3 \n"
     ]
    },
    {
     "name": "stdout",
     "output_type": "stream",
     "text": [
      "Best value in data: 1.04007 \n",
      "Number of runs in data: 10 \n",
      "[1] \"STNMetrics/L3_UNI_50/log_set-UNI_tam-50_L3_rev.txt\"\n",
      "[1] \"Number of nodes in the STNs created:\"\n",
      "[1] 3478\n",
      "Rscript metrics-alg.R STNMetrics/L3_UNI_50-stn L3_UNI_50\n",
      "[1] \"log_set-UNI_tam-50_L3_rev_stn.RData\"\n"
     ]
    },
    {
     "name": "stderr",
     "output_type": "stream",
     "text": [
      "\n",
      "Attaching package: ‘igraph’\n",
      "\n",
      "The following objects are masked from ‘package:stats’:\n",
      "\n",
      "    decompose, spectrum\n",
      "\n",
      "The following object is masked from ‘package:base’:\n",
      "\n",
      "    union\n",
      "\n",
      "Warning message:\n",
      "package ‘igraph’ was built under R version 4.3.3 \n"
     ]
    }
   ],
   "source": [
    "cont = 0\n",
    "mkdir(\"STNMetrics\")\n",
    "for precision in Pres:\n",
    "    for insset in Set:\n",
    "        for PS in Pop: \n",
    "            cont = 0 #RutaEjemplo: L1/HYB/10/log_set-HYB_tam-10_L1_rev.txt\n",
    "            #workpath = precision+'/STN_P'+PS\n",
    "            workpath = \"STNMetrics/\" + precision + \"_\" + insset + \"_\" + PS\n",
    "            cat = precision + \"_\" + insset + \"_\" + PS\n",
    "            mkdir(workpath)\n",
    "            filepath = precision + \"/\" + insset + \"/\" + PS + '/'\n",
    "            files=os.listdir(filepath)\n",
    "            shutil.copy(filepath+files[0], workpath)\n",
    "            comando = 'Rscript create.R {} 1'\n",
    "            comando = comando.format(workpath)\n",
    "            print(comando)\n",
    "            system(comando)\n",
    "            comando = 'Rscript metrics-alg.R {} {}'\n",
    "            comando = comando.format(workpath+'-stn',cat)\n",
    "            print(comando)\n",
    "            system(comando)\n",
    "            newfold = workpath + 'metrics'\n",
    "            mkdir(newfold)\n",
    "            comando = 'mv *.csv {}'\n",
    "            comando = comando.format(newfold)\n",
    "            system(comando)\n",
    "            "
   ]
  },
  {
   "cell_type": "code",
   "execution_count": null,
   "id": "ab3e9a28",
   "metadata": {},
   "outputs": [],
   "source": [
    "            "
   ]
  }
 ],
 "metadata": {
  "kernelspec": {
   "display_name": "Python 3 (ipykernel)",
   "language": "python",
   "name": "python3"
  },
  "language_info": {
   "codemirror_mode": {
    "name": "ipython",
    "version": 3
   },
   "file_extension": ".py",
   "mimetype": "text/x-python",
   "name": "python",
   "nbconvert_exporter": "python",
   "pygments_lexer": "ipython3",
   "version": "3.12.2"
  }
 },
 "nbformat": 4,
 "nbformat_minor": 5
}
