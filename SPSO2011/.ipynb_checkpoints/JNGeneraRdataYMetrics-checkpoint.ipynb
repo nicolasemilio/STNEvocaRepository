{
 "cells": [
  {
   "cell_type": "code",
   "execution_count": 19,
   "id": "9fe29fae",
   "metadata": {},
   "outputs": [],
   "source": [
    "from os import mkdir\n",
    "import shutil\n",
    "from os import system"
   ]
  },
  {
   "cell_type": "code",
   "execution_count": 22,
   "id": "baabb5dd",
   "metadata": {},
   "outputs": [],
   "source": [
    "#Pres = ['1stPres', '2ndPres', '3rdPres']\n",
    "Pres = ['1stPres']\n",
    "\n",
    "Folder = 'STN_EvPS{}'\n",
    "\n",
    "Pop = ['10', '20', '50']\n",
    "\n",
    "#RutaEjemplo: 1stPres/STN_EvPS10/P10_EVOCA.log_GA_FALL_S.out\n",
    "\n",
    "#Crear dentro de 1stPres -> Crear STN_P10/ y dentro crear una carpeta por categoria\n",
    "#copiar el archivo que corresponde\n",
    "#hacer Rscript Create.R nombreCarpeta 1\n",
    "#hacer Rscript metrics-alg.R nombreCarpeta-stn cat\n",
    "\n",
    "Prefix_file = 'P{}_'\n",
    "files = ['EVOCA.log_GA_FALL_S',\n",
    "'EVOCA.log_GA_Fnk_2_20_S',\n",
    "'EVOCA.log_GA_Fnk_2_38_S',\n",
    "'EVOCA.log_GA_Fnk_2_52_S',\n",
    "'EVOCA.log_GA_Fnk_3_20_S',\n",
    "'EVOCA.log_GA_Fnk_3_34_S',\n",
    "'EVOCA.log_GA_Fnk_3_48_S',\n",
    "'EVOCA.log_GA_Fnk_4_20_S',\n",
    "'EVOCA.log_GA_Fnk_4_30_S',\n",
    "'EVOCA.log_GA_Fnk_4_40_S',\n",
    "'EVOCA.log_GA_Fnk_5_20_S',\n",
    "'EVOCA.log_GA_Fnk_5_28_S',\n",
    "'EVOCA.log_GA_Fnk_5_38_S',\n",
    "'EVOCA.log_GA_Fnk_6_20_S',\n",
    "'EVOCA.log_GA_Fnk_6_26_S',\n",
    "'EVOCA.log_GA_Fnk_6_32_S']\n",
    "\n",
    "categories = ['ALL', '2_20', '2_38', '2_52', '3_20', '3_34', '3_48', '4_20', '4_30', '4_40','5_20','5_28','5_38','6_20','6_26','6_32']"
   ]
  },
  {
   "cell_type": "code",
   "execution_count": 24,
   "id": "f895f12a",
   "metadata": {},
   "outputs": [
    {
     "name": "stdout",
     "output_type": "stream",
     "text": [
      "Rscript create.R 1stPres/STN_P10/ALL 1\n",
      "Output folder:  1stPres/STN_P10/ALL-stn \n",
      "Rscript create.R 1stPres/STN_P10/2_20 1\n"
     ]
    },
    {
     "name": "stderr",
     "output_type": "stream",
     "text": [
      "Loading required package: igraph\n",
      "Error in contrib.url(repos, type) : \n",
      "  trying to use CRAN without setting a mirror\n",
      "Calls: lapply -> FUN -> install.packages -> grep -> contrib.url\n",
      "Además: Warning message:\n",
      "In library(package, lib.loc = lib.loc, character.only = TRUE, logical.return = TRUE,  :\n",
      "  there is no package called ‘igraph’\n",
      "Ejecución interrumpida\n"
     ]
    },
    {
     "name": "stdout",
     "output_type": "stream",
     "text": [
      "Output folder:  1stPres/STN_P10/2_20-stn \n",
      "Rscript create.R 1stPres/STN_P10/2_38 1\n"
     ]
    },
    {
     "name": "stderr",
     "output_type": "stream",
     "text": [
      "Loading required package: igraph\n",
      "Error in contrib.url(repos, type) : \n",
      "  trying to use CRAN without setting a mirror\n",
      "Calls: lapply -> FUN -> install.packages -> grep -> contrib.url\n",
      "Además: Warning message:\n",
      "In library(package, lib.loc = lib.loc, character.only = TRUE, logical.return = TRUE,  :\n",
      "  there is no package called ‘igraph’\n",
      "Ejecución interrumpida\n"
     ]
    },
    {
     "name": "stdout",
     "output_type": "stream",
     "text": [
      "Output folder:  1stPres/STN_P10/2_38-stn \n",
      "Rscript create.R 1stPres/STN_P10/2_52 1\n"
     ]
    },
    {
     "name": "stderr",
     "output_type": "stream",
     "text": [
      "Loading required package: igraph\n",
      "Error in contrib.url(repos, type) : \n",
      "  trying to use CRAN without setting a mirror\n",
      "Calls: lapply -> FUN -> install.packages -> grep -> contrib.url\n",
      "Además: Warning message:\n",
      "In library(package, lib.loc = lib.loc, character.only = TRUE, logical.return = TRUE,  :\n",
      "  there is no package called ‘igraph’\n",
      "Ejecución interrumpida\n"
     ]
    },
    {
     "name": "stdout",
     "output_type": "stream",
     "text": [
      "Output folder:  1stPres/STN_P10/2_52-stn \n",
      "Rscript create.R 1stPres/STN_P10/3_20 1\n"
     ]
    },
    {
     "name": "stderr",
     "output_type": "stream",
     "text": [
      "Loading required package: igraph\n",
      "Error in contrib.url(repos, type) : \n",
      "  trying to use CRAN without setting a mirror\n",
      "Calls: lapply -> FUN -> install.packages -> grep -> contrib.url\n",
      "Además: Warning message:\n",
      "In library(package, lib.loc = lib.loc, character.only = TRUE, logical.return = TRUE,  :\n",
      "  there is no package called ‘igraph’\n",
      "Ejecución interrumpida\n"
     ]
    },
    {
     "name": "stdout",
     "output_type": "stream",
     "text": [
      "Output folder:  1stPres/STN_P10/3_20-stn \n",
      "Rscript create.R 1stPres/STN_P10/3_34 1\n"
     ]
    },
    {
     "name": "stderr",
     "output_type": "stream",
     "text": [
      "Loading required package: igraph\n",
      "Error in contrib.url(repos, type) : \n",
      "  trying to use CRAN without setting a mirror\n",
      "Calls: lapply -> FUN -> install.packages -> grep -> contrib.url\n",
      "Además: Warning message:\n",
      "In library(package, lib.loc = lib.loc, character.only = TRUE, logical.return = TRUE,  :\n",
      "  there is no package called ‘igraph’\n",
      "Ejecución interrumpida\n"
     ]
    },
    {
     "name": "stdout",
     "output_type": "stream",
     "text": [
      "Output folder:  1stPres/STN_P10/3_34-stn \n",
      "Rscript create.R 1stPres/STN_P10/3_48 1\n"
     ]
    },
    {
     "name": "stderr",
     "output_type": "stream",
     "text": [
      "Loading required package: igraph\n",
      "Error in contrib.url(repos, type) : \n",
      "  trying to use CRAN without setting a mirror\n",
      "Calls: lapply -> FUN -> install.packages -> grep -> contrib.url\n",
      "Además: Warning message:\n",
      "In library(package, lib.loc = lib.loc, character.only = TRUE, logical.return = TRUE,  :\n",
      "  there is no package called ‘igraph’\n",
      "Ejecución interrumpida\n"
     ]
    },
    {
     "name": "stdout",
     "output_type": "stream",
     "text": [
      "Output folder:  1stPres/STN_P10/3_48-stn \n",
      "Rscript create.R 1stPres/STN_P10/4_20 1\n"
     ]
    },
    {
     "name": "stderr",
     "output_type": "stream",
     "text": [
      "Loading required package: igraph\n",
      "Error in contrib.url(repos, type) : \n",
      "  trying to use CRAN without setting a mirror\n",
      "Calls: lapply -> FUN -> install.packages -> grep -> contrib.url\n",
      "Además: Warning message:\n",
      "In library(package, lib.loc = lib.loc, character.only = TRUE, logical.return = TRUE,  :\n",
      "  there is no package called ‘igraph’\n",
      "Ejecución interrumpida\n"
     ]
    },
    {
     "name": "stdout",
     "output_type": "stream",
     "text": [
      "Output folder:  1stPres/STN_P10/4_20-stn \n",
      "Rscript create.R 1stPres/STN_P10/4_30 1\n"
     ]
    },
    {
     "name": "stderr",
     "output_type": "stream",
     "text": [
      "Loading required package: igraph\n",
      "Error in contrib.url(repos, type) : \n",
      "  trying to use CRAN without setting a mirror\n",
      "Calls: lapply -> FUN -> install.packages -> grep -> contrib.url\n",
      "Además: Warning message:\n",
      "In library(package, lib.loc = lib.loc, character.only = TRUE, logical.return = TRUE,  :\n",
      "  there is no package called ‘igraph’\n",
      "Ejecución interrumpida\n"
     ]
    },
    {
     "name": "stdout",
     "output_type": "stream",
     "text": [
      "Output folder:  1stPres/STN_P10/4_30-stn \n",
      "Rscript create.R 1stPres/STN_P10/4_40 1\n"
     ]
    },
    {
     "name": "stderr",
     "output_type": "stream",
     "text": [
      "Loading required package: igraph\n",
      "Error in contrib.url(repos, type) : \n",
      "  trying to use CRAN without setting a mirror\n",
      "Calls: lapply -> FUN -> install.packages -> grep -> contrib.url\n",
      "Además: Warning message:\n",
      "In library(package, lib.loc = lib.loc, character.only = TRUE, logical.return = TRUE,  :\n",
      "  there is no package called ‘igraph’\n",
      "Ejecución interrumpida\n"
     ]
    },
    {
     "name": "stdout",
     "output_type": "stream",
     "text": [
      "Output folder:  1stPres/STN_P10/4_40-stn \n",
      "Rscript create.R 1stPres/STN_P10/5_20 1\n"
     ]
    },
    {
     "name": "stderr",
     "output_type": "stream",
     "text": [
      "Loading required package: igraph\n",
      "Error in contrib.url(repos, type) : \n",
      "  trying to use CRAN without setting a mirror\n",
      "Calls: lapply -> FUN -> install.packages -> grep -> contrib.url\n",
      "Además: Warning message:\n",
      "In library(package, lib.loc = lib.loc, character.only = TRUE, logical.return = TRUE,  :\n",
      "  there is no package called ‘igraph’\n",
      "Ejecución interrumpida\n"
     ]
    },
    {
     "name": "stdout",
     "output_type": "stream",
     "text": [
      "Output folder:  1stPres/STN_P10/5_20-stn \n",
      "Rscript create.R 1stPres/STN_P10/5_28 1\n"
     ]
    },
    {
     "name": "stderr",
     "output_type": "stream",
     "text": [
      "Loading required package: igraph\n",
      "Error in contrib.url(repos, type) : \n",
      "  trying to use CRAN without setting a mirror\n",
      "Calls: lapply -> FUN -> install.packages -> grep -> contrib.url\n",
      "Además: Warning message:\n",
      "In library(package, lib.loc = lib.loc, character.only = TRUE, logical.return = TRUE,  :\n",
      "  there is no package called ‘igraph’\n",
      "Ejecución interrumpida\n"
     ]
    },
    {
     "name": "stdout",
     "output_type": "stream",
     "text": [
      "Output folder:  1stPres/STN_P10/5_28-stn \n",
      "Rscript create.R 1stPres/STN_P10/5_38 1\n"
     ]
    },
    {
     "name": "stderr",
     "output_type": "stream",
     "text": [
      "Loading required package: igraph\n",
      "Error in contrib.url(repos, type) : \n",
      "  trying to use CRAN without setting a mirror\n",
      "Calls: lapply -> FUN -> install.packages -> grep -> contrib.url\n",
      "Además: Warning message:\n",
      "In library(package, lib.loc = lib.loc, character.only = TRUE, logical.return = TRUE,  :\n",
      "  there is no package called ‘igraph’\n",
      "Ejecución interrumpida\n"
     ]
    },
    {
     "name": "stdout",
     "output_type": "stream",
     "text": [
      "Output folder:  1stPres/STN_P10/5_38-stn \n",
      "Rscript create.R 1stPres/STN_P10/6_20 1\n"
     ]
    },
    {
     "name": "stderr",
     "output_type": "stream",
     "text": [
      "Loading required package: igraph\n",
      "Error in contrib.url(repos, type) : \n",
      "  trying to use CRAN without setting a mirror\n",
      "Calls: lapply -> FUN -> install.packages -> grep -> contrib.url\n",
      "Además: Warning message:\n",
      "In library(package, lib.loc = lib.loc, character.only = TRUE, logical.return = TRUE,  :\n",
      "  there is no package called ‘igraph’\n",
      "Ejecución interrumpida\n"
     ]
    },
    {
     "name": "stdout",
     "output_type": "stream",
     "text": [
      "Output folder:  1stPres/STN_P10/6_20-stn \n",
      "Rscript create.R 1stPres/STN_P10/6_26 1\n"
     ]
    },
    {
     "name": "stderr",
     "output_type": "stream",
     "text": [
      "Loading required package: igraph\n",
      "Error in contrib.url(repos, type) : \n",
      "  trying to use CRAN without setting a mirror\n",
      "Calls: lapply -> FUN -> install.packages -> grep -> contrib.url\n",
      "Además: Warning message:\n",
      "In library(package, lib.loc = lib.loc, character.only = TRUE, logical.return = TRUE,  :\n",
      "  there is no package called ‘igraph’\n",
      "Ejecución interrumpida\n"
     ]
    },
    {
     "name": "stdout",
     "output_type": "stream",
     "text": [
      "Output folder:  1stPres/STN_P10/6_26-stn \n",
      "Rscript create.R 1stPres/STN_P10/6_32 1\n"
     ]
    },
    {
     "name": "stderr",
     "output_type": "stream",
     "text": [
      "Loading required package: igraph\n",
      "Error in contrib.url(repos, type) : \n",
      "  trying to use CRAN without setting a mirror\n",
      "Calls: lapply -> FUN -> install.packages -> grep -> contrib.url\n",
      "Además: Warning message:\n",
      "In library(package, lib.loc = lib.loc, character.only = TRUE, logical.return = TRUE,  :\n",
      "  there is no package called ‘igraph’\n",
      "Ejecución interrumpida\n"
     ]
    },
    {
     "name": "stdout",
     "output_type": "stream",
     "text": [
      "Output folder:  1stPres/STN_P10/6_32-stn \n",
      "Rscript create.R 1stPres/STN_P20/ALL 1\n"
     ]
    },
    {
     "name": "stderr",
     "output_type": "stream",
     "text": [
      "Loading required package: igraph\n",
      "Error in contrib.url(repos, type) : \n",
      "  trying to use CRAN without setting a mirror\n",
      "Calls: lapply -> FUN -> install.packages -> grep -> contrib.url\n",
      "Además: Warning message:\n",
      "In library(package, lib.loc = lib.loc, character.only = TRUE, logical.return = TRUE,  :\n",
      "  there is no package called ‘igraph’\n",
      "Ejecución interrumpida\n"
     ]
    },
    {
     "name": "stdout",
     "output_type": "stream",
     "text": [
      "Output folder:  1stPres/STN_P20/ALL-stn \n",
      "Rscript create.R 1stPres/STN_P20/2_20 1\n"
     ]
    },
    {
     "name": "stderr",
     "output_type": "stream",
     "text": [
      "Loading required package: igraph\n",
      "Error in contrib.url(repos, type) : \n",
      "  trying to use CRAN without setting a mirror\n",
      "Calls: lapply -> FUN -> install.packages -> grep -> contrib.url\n",
      "Además: Warning message:\n",
      "In library(package, lib.loc = lib.loc, character.only = TRUE, logical.return = TRUE,  :\n",
      "  there is no package called ‘igraph’\n",
      "Ejecución interrumpida\n"
     ]
    },
    {
     "name": "stdout",
     "output_type": "stream",
     "text": [
      "Output folder:  1stPres/STN_P20/2_20-stn \n",
      "Rscript create.R 1stPres/STN_P20/2_38 1\n"
     ]
    },
    {
     "name": "stderr",
     "output_type": "stream",
     "text": [
      "Loading required package: igraph\n",
      "Error in contrib.url(repos, type) : \n",
      "  trying to use CRAN without setting a mirror\n",
      "Calls: lapply -> FUN -> install.packages -> grep -> contrib.url\n",
      "Además: Warning message:\n",
      "In library(package, lib.loc = lib.loc, character.only = TRUE, logical.return = TRUE,  :\n",
      "  there is no package called ‘igraph’\n",
      "Ejecución interrumpida\n"
     ]
    },
    {
     "name": "stdout",
     "output_type": "stream",
     "text": [
      "Output folder:  1stPres/STN_P20/2_38-stn \n",
      "Rscript create.R 1stPres/STN_P20/2_52 1\n"
     ]
    },
    {
     "name": "stderr",
     "output_type": "stream",
     "text": [
      "Loading required package: igraph\n",
      "Error in contrib.url(repos, type) : \n",
      "  trying to use CRAN without setting a mirror\n",
      "Calls: lapply -> FUN -> install.packages -> grep -> contrib.url\n",
      "Además: Warning message:\n",
      "In library(package, lib.loc = lib.loc, character.only = TRUE, logical.return = TRUE,  :\n",
      "  there is no package called ‘igraph’\n",
      "Ejecución interrumpida\n"
     ]
    },
    {
     "name": "stdout",
     "output_type": "stream",
     "text": [
      "Output folder:  1stPres/STN_P20/2_52-stn \n",
      "Rscript create.R 1stPres/STN_P20/3_20 1\n"
     ]
    },
    {
     "name": "stderr",
     "output_type": "stream",
     "text": [
      "Loading required package: igraph\n",
      "Error in contrib.url(repos, type) : \n",
      "  trying to use CRAN without setting a mirror\n",
      "Calls: lapply -> FUN -> install.packages -> grep -> contrib.url\n",
      "Además: Warning message:\n",
      "In library(package, lib.loc = lib.loc, character.only = TRUE, logical.return = TRUE,  :\n",
      "  there is no package called ‘igraph’\n",
      "Ejecución interrumpida\n"
     ]
    },
    {
     "name": "stdout",
     "output_type": "stream",
     "text": [
      "Output folder:  1stPres/STN_P20/3_20-stn \n",
      "Rscript create.R 1stPres/STN_P20/3_34 1\n"
     ]
    },
    {
     "name": "stderr",
     "output_type": "stream",
     "text": [
      "Loading required package: igraph\n",
      "Error in contrib.url(repos, type) : \n",
      "  trying to use CRAN without setting a mirror\n",
      "Calls: lapply -> FUN -> install.packages -> grep -> contrib.url\n",
      "Además: Warning message:\n",
      "In library(package, lib.loc = lib.loc, character.only = TRUE, logical.return = TRUE,  :\n",
      "  there is no package called ‘igraph’\n",
      "Ejecución interrumpida\n"
     ]
    },
    {
     "name": "stdout",
     "output_type": "stream",
     "text": [
      "Output folder:  1stPres/STN_P20/3_34-stn \n",
      "Rscript create.R 1stPres/STN_P20/3_48 1\n"
     ]
    },
    {
     "name": "stderr",
     "output_type": "stream",
     "text": [
      "Loading required package: igraph\n",
      "Error in contrib.url(repos, type) : \n",
      "  trying to use CRAN without setting a mirror\n",
      "Calls: lapply -> FUN -> install.packages -> grep -> contrib.url\n",
      "Además: Warning message:\n",
      "In library(package, lib.loc = lib.loc, character.only = TRUE, logical.return = TRUE,  :\n",
      "  there is no package called ‘igraph’\n",
      "Ejecución interrumpida\n"
     ]
    },
    {
     "name": "stdout",
     "output_type": "stream",
     "text": [
      "Output folder:  1stPres/STN_P20/3_48-stn \n",
      "Rscript create.R 1stPres/STN_P20/4_20 1\n"
     ]
    },
    {
     "name": "stderr",
     "output_type": "stream",
     "text": [
      "Loading required package: igraph\n",
      "Error in contrib.url(repos, type) : \n",
      "  trying to use CRAN without setting a mirror\n",
      "Calls: lapply -> FUN -> install.packages -> grep -> contrib.url\n",
      "Además: Warning message:\n",
      "In library(package, lib.loc = lib.loc, character.only = TRUE, logical.return = TRUE,  :\n",
      "  there is no package called ‘igraph’\n",
      "Ejecución interrumpida\n"
     ]
    },
    {
     "name": "stdout",
     "output_type": "stream",
     "text": [
      "Output folder:  1stPres/STN_P20/4_20-stn \n",
      "Rscript create.R 1stPres/STN_P20/4_30 1\n"
     ]
    },
    {
     "name": "stderr",
     "output_type": "stream",
     "text": [
      "Loading required package: igraph\n",
      "Error in contrib.url(repos, type) : \n",
      "  trying to use CRAN without setting a mirror\n",
      "Calls: lapply -> FUN -> install.packages -> grep -> contrib.url\n",
      "Además: Warning message:\n",
      "In library(package, lib.loc = lib.loc, character.only = TRUE, logical.return = TRUE,  :\n",
      "  there is no package called ‘igraph’\n",
      "Ejecución interrumpida\n"
     ]
    },
    {
     "name": "stdout",
     "output_type": "stream",
     "text": [
      "Output folder:  1stPres/STN_P20/4_30-stn \n",
      "Rscript create.R 1stPres/STN_P20/4_40 1\n"
     ]
    },
    {
     "name": "stderr",
     "output_type": "stream",
     "text": [
      "Loading required package: igraph\n",
      "Error in contrib.url(repos, type) : \n",
      "  trying to use CRAN without setting a mirror\n",
      "Calls: lapply -> FUN -> install.packages -> grep -> contrib.url\n",
      "Además: Warning message:\n",
      "In library(package, lib.loc = lib.loc, character.only = TRUE, logical.return = TRUE,  :\n",
      "  there is no package called ‘igraph’\n",
      "Ejecución interrumpida\n"
     ]
    },
    {
     "name": "stdout",
     "output_type": "stream",
     "text": [
      "Output folder:  1stPres/STN_P20/4_40-stn \n",
      "Rscript create.R 1stPres/STN_P20/5_20 1\n"
     ]
    },
    {
     "name": "stderr",
     "output_type": "stream",
     "text": [
      "Loading required package: igraph\n",
      "Error in contrib.url(repos, type) : \n",
      "  trying to use CRAN without setting a mirror\n",
      "Calls: lapply -> FUN -> install.packages -> grep -> contrib.url\n",
      "Además: Warning message:\n",
      "In library(package, lib.loc = lib.loc, character.only = TRUE, logical.return = TRUE,  :\n",
      "  there is no package called ‘igraph’\n",
      "Ejecución interrumpida\n"
     ]
    },
    {
     "name": "stdout",
     "output_type": "stream",
     "text": [
      "Output folder:  1stPres/STN_P20/5_20-stn \n",
      "Rscript create.R 1stPres/STN_P20/5_28 1\n"
     ]
    },
    {
     "name": "stderr",
     "output_type": "stream",
     "text": [
      "Loading required package: igraph\n",
      "Error in contrib.url(repos, type) : \n",
      "  trying to use CRAN without setting a mirror\n",
      "Calls: lapply -> FUN -> install.packages -> grep -> contrib.url\n",
      "Además: Warning message:\n",
      "In library(package, lib.loc = lib.loc, character.only = TRUE, logical.return = TRUE,  :\n",
      "  there is no package called ‘igraph’\n",
      "Ejecución interrumpida\n"
     ]
    },
    {
     "name": "stdout",
     "output_type": "stream",
     "text": [
      "Output folder:  1stPres/STN_P20/5_28-stn \n",
      "Rscript create.R 1stPres/STN_P20/5_38 1\n"
     ]
    },
    {
     "name": "stderr",
     "output_type": "stream",
     "text": [
      "Loading required package: igraph\n",
      "Error in contrib.url(repos, type) : \n",
      "  trying to use CRAN without setting a mirror\n",
      "Calls: lapply -> FUN -> install.packages -> grep -> contrib.url\n",
      "Además: Warning message:\n",
      "In library(package, lib.loc = lib.loc, character.only = TRUE, logical.return = TRUE,  :\n",
      "  there is no package called ‘igraph’\n",
      "Ejecución interrumpida\n"
     ]
    },
    {
     "name": "stdout",
     "output_type": "stream",
     "text": [
      "Output folder:  1stPres/STN_P20/5_38-stn \n",
      "Rscript create.R 1stPres/STN_P20/6_20 1\n"
     ]
    },
    {
     "name": "stderr",
     "output_type": "stream",
     "text": [
      "Loading required package: igraph\n",
      "Error in contrib.url(repos, type) : \n",
      "  trying to use CRAN without setting a mirror\n",
      "Calls: lapply -> FUN -> install.packages -> grep -> contrib.url\n",
      "Además: Warning message:\n",
      "In library(package, lib.loc = lib.loc, character.only = TRUE, logical.return = TRUE,  :\n",
      "  there is no package called ‘igraph’\n",
      "Ejecución interrumpida\n"
     ]
    },
    {
     "name": "stdout",
     "output_type": "stream",
     "text": [
      "Output folder:  1stPres/STN_P20/6_20-stn \n",
      "Rscript create.R 1stPres/STN_P20/6_26 1\n"
     ]
    },
    {
     "name": "stderr",
     "output_type": "stream",
     "text": [
      "Loading required package: igraph\n",
      "Error in contrib.url(repos, type) : \n",
      "  trying to use CRAN without setting a mirror\n",
      "Calls: lapply -> FUN -> install.packages -> grep -> contrib.url\n",
      "Además: Warning message:\n",
      "In library(package, lib.loc = lib.loc, character.only = TRUE, logical.return = TRUE,  :\n",
      "  there is no package called ‘igraph’\n",
      "Ejecución interrumpida\n"
     ]
    },
    {
     "name": "stdout",
     "output_type": "stream",
     "text": [
      "Output folder:  1stPres/STN_P20/6_26-stn \n",
      "Rscript create.R 1stPres/STN_P20/6_32 1\n"
     ]
    },
    {
     "name": "stderr",
     "output_type": "stream",
     "text": [
      "Loading required package: igraph\n",
      "Error in contrib.url(repos, type) : \n",
      "  trying to use CRAN without setting a mirror\n",
      "Calls: lapply -> FUN -> install.packages -> grep -> contrib.url\n",
      "Además: Warning message:\n",
      "In library(package, lib.loc = lib.loc, character.only = TRUE, logical.return = TRUE,  :\n",
      "  there is no package called ‘igraph’\n",
      "Ejecución interrumpida\n"
     ]
    },
    {
     "name": "stdout",
     "output_type": "stream",
     "text": [
      "Output folder:  1stPres/STN_P20/6_32-stn \n",
      "Rscript create.R 1stPres/STN_P50/ALL 1\n"
     ]
    },
    {
     "name": "stderr",
     "output_type": "stream",
     "text": [
      "Loading required package: igraph\n",
      "Error in contrib.url(repos, type) : \n",
      "  trying to use CRAN without setting a mirror\n",
      "Calls: lapply -> FUN -> install.packages -> grep -> contrib.url\n",
      "Además: Warning message:\n",
      "In library(package, lib.loc = lib.loc, character.only = TRUE, logical.return = TRUE,  :\n",
      "  there is no package called ‘igraph’\n",
      "Ejecución interrumpida\n"
     ]
    },
    {
     "name": "stdout",
     "output_type": "stream",
     "text": [
      "Output folder:  1stPres/STN_P50/ALL-stn \n",
      "Rscript create.R 1stPres/STN_P50/2_20 1\n"
     ]
    },
    {
     "name": "stderr",
     "output_type": "stream",
     "text": [
      "Loading required package: igraph\n",
      "Error in contrib.url(repos, type) : \n",
      "  trying to use CRAN without setting a mirror\n",
      "Calls: lapply -> FUN -> install.packages -> grep -> contrib.url\n",
      "Además: Warning message:\n",
      "In library(package, lib.loc = lib.loc, character.only = TRUE, logical.return = TRUE,  :\n",
      "  there is no package called ‘igraph’\n",
      "Ejecución interrumpida\n"
     ]
    },
    {
     "name": "stdout",
     "output_type": "stream",
     "text": [
      "Output folder:  1stPres/STN_P50/2_20-stn \n",
      "Rscript create.R 1stPres/STN_P50/2_38 1\n"
     ]
    },
    {
     "name": "stderr",
     "output_type": "stream",
     "text": [
      "Loading required package: igraph\n",
      "Error in contrib.url(repos, type) : \n",
      "  trying to use CRAN without setting a mirror\n",
      "Calls: lapply -> FUN -> install.packages -> grep -> contrib.url\n",
      "Además: Warning message:\n",
      "In library(package, lib.loc = lib.loc, character.only = TRUE, logical.return = TRUE,  :\n",
      "  there is no package called ‘igraph’\n",
      "Ejecución interrumpida\n"
     ]
    },
    {
     "name": "stdout",
     "output_type": "stream",
     "text": [
      "Output folder:  1stPres/STN_P50/2_38-stn \n",
      "Rscript create.R 1stPres/STN_P50/2_52 1\n"
     ]
    },
    {
     "name": "stderr",
     "output_type": "stream",
     "text": [
      "Loading required package: igraph\n",
      "Error in contrib.url(repos, type) : \n",
      "  trying to use CRAN without setting a mirror\n",
      "Calls: lapply -> FUN -> install.packages -> grep -> contrib.url\n",
      "Además: Warning message:\n",
      "In library(package, lib.loc = lib.loc, character.only = TRUE, logical.return = TRUE,  :\n",
      "  there is no package called ‘igraph’\n",
      "Ejecución interrumpida\n"
     ]
    },
    {
     "name": "stdout",
     "output_type": "stream",
     "text": [
      "Output folder:  1stPres/STN_P50/2_52-stn \n",
      "Rscript create.R 1stPres/STN_P50/3_20 1\n"
     ]
    },
    {
     "name": "stderr",
     "output_type": "stream",
     "text": [
      "Loading required package: igraph\n",
      "Error in contrib.url(repos, type) : \n",
      "  trying to use CRAN without setting a mirror\n",
      "Calls: lapply -> FUN -> install.packages -> grep -> contrib.url\n",
      "Además: Warning message:\n",
      "In library(package, lib.loc = lib.loc, character.only = TRUE, logical.return = TRUE,  :\n",
      "  there is no package called ‘igraph’\n",
      "Ejecución interrumpida\n"
     ]
    },
    {
     "name": "stdout",
     "output_type": "stream",
     "text": [
      "Output folder:  1stPres/STN_P50/3_20-stn \n",
      "Rscript create.R 1stPres/STN_P50/3_34 1\n"
     ]
    },
    {
     "name": "stderr",
     "output_type": "stream",
     "text": [
      "Loading required package: igraph\n",
      "Error in contrib.url(repos, type) : \n",
      "  trying to use CRAN without setting a mirror\n",
      "Calls: lapply -> FUN -> install.packages -> grep -> contrib.url\n",
      "Además: Warning message:\n",
      "In library(package, lib.loc = lib.loc, character.only = TRUE, logical.return = TRUE,  :\n",
      "  there is no package called ‘igraph’\n",
      "Ejecución interrumpida\n"
     ]
    },
    {
     "name": "stdout",
     "output_type": "stream",
     "text": [
      "Output folder:  1stPres/STN_P50/3_34-stn \n",
      "Rscript create.R 1stPres/STN_P50/3_48 1\n"
     ]
    },
    {
     "name": "stderr",
     "output_type": "stream",
     "text": [
      "Loading required package: igraph\n",
      "Error in contrib.url(repos, type) : \n",
      "  trying to use CRAN without setting a mirror\n",
      "Calls: lapply -> FUN -> install.packages -> grep -> contrib.url\n",
      "Además: Warning message:\n",
      "In library(package, lib.loc = lib.loc, character.only = TRUE, logical.return = TRUE,  :\n",
      "  there is no package called ‘igraph’\n",
      "Ejecución interrumpida\n"
     ]
    },
    {
     "name": "stdout",
     "output_type": "stream",
     "text": [
      "Output folder:  1stPres/STN_P50/3_48-stn \n",
      "Rscript create.R 1stPres/STN_P50/4_20 1\n"
     ]
    },
    {
     "name": "stderr",
     "output_type": "stream",
     "text": [
      "Loading required package: igraph\n",
      "Error in contrib.url(repos, type) : \n",
      "  trying to use CRAN without setting a mirror\n",
      "Calls: lapply -> FUN -> install.packages -> grep -> contrib.url\n",
      "Además: Warning message:\n",
      "In library(package, lib.loc = lib.loc, character.only = TRUE, logical.return = TRUE,  :\n",
      "  there is no package called ‘igraph’\n",
      "Ejecución interrumpida\n"
     ]
    },
    {
     "name": "stdout",
     "output_type": "stream",
     "text": [
      "Output folder:  1stPres/STN_P50/4_20-stn \n",
      "Rscript create.R 1stPres/STN_P50/4_30 1\n"
     ]
    },
    {
     "name": "stderr",
     "output_type": "stream",
     "text": [
      "Loading required package: igraph\n",
      "Error in contrib.url(repos, type) : \n",
      "  trying to use CRAN without setting a mirror\n",
      "Calls: lapply -> FUN -> install.packages -> grep -> contrib.url\n",
      "Además: Warning message:\n",
      "In library(package, lib.loc = lib.loc, character.only = TRUE, logical.return = TRUE,  :\n",
      "  there is no package called ‘igraph’\n",
      "Ejecución interrumpida\n"
     ]
    },
    {
     "name": "stdout",
     "output_type": "stream",
     "text": [
      "Output folder:  1stPres/STN_P50/4_30-stn \n",
      "Rscript create.R 1stPres/STN_P50/4_40 1\n"
     ]
    },
    {
     "name": "stderr",
     "output_type": "stream",
     "text": [
      "Loading required package: igraph\n",
      "Error in contrib.url(repos, type) : \n",
      "  trying to use CRAN without setting a mirror\n",
      "Calls: lapply -> FUN -> install.packages -> grep -> contrib.url\n",
      "Además: Warning message:\n",
      "In library(package, lib.loc = lib.loc, character.only = TRUE, logical.return = TRUE,  :\n",
      "  there is no package called ‘igraph’\n",
      "Ejecución interrumpida\n"
     ]
    },
    {
     "name": "stdout",
     "output_type": "stream",
     "text": [
      "Output folder:  1stPres/STN_P50/4_40-stn \n",
      "Rscript create.R 1stPres/STN_P50/5_20 1\n"
     ]
    },
    {
     "name": "stderr",
     "output_type": "stream",
     "text": [
      "Loading required package: igraph\n",
      "Error in contrib.url(repos, type) : \n",
      "  trying to use CRAN without setting a mirror\n",
      "Calls: lapply -> FUN -> install.packages -> grep -> contrib.url\n",
      "Además: Warning message:\n",
      "In library(package, lib.loc = lib.loc, character.only = TRUE, logical.return = TRUE,  :\n",
      "  there is no package called ‘igraph’\n",
      "Ejecución interrumpida\n"
     ]
    },
    {
     "name": "stdout",
     "output_type": "stream",
     "text": [
      "Output folder:  1stPres/STN_P50/5_20-stn \n",
      "Rscript create.R 1stPres/STN_P50/5_28 1\n"
     ]
    },
    {
     "name": "stderr",
     "output_type": "stream",
     "text": [
      "Loading required package: igraph\n",
      "Error in contrib.url(repos, type) : \n",
      "  trying to use CRAN without setting a mirror\n",
      "Calls: lapply -> FUN -> install.packages -> grep -> contrib.url\n",
      "Además: Warning message:\n",
      "In library(package, lib.loc = lib.loc, character.only = TRUE, logical.return = TRUE,  :\n",
      "  there is no package called ‘igraph’\n",
      "Ejecución interrumpida\n"
     ]
    },
    {
     "name": "stdout",
     "output_type": "stream",
     "text": [
      "Output folder:  1stPres/STN_P50/5_28-stn \n",
      "Rscript create.R 1stPres/STN_P50/5_38 1\n"
     ]
    },
    {
     "name": "stderr",
     "output_type": "stream",
     "text": [
      "Loading required package: igraph\n",
      "Error in contrib.url(repos, type) : \n",
      "  trying to use CRAN without setting a mirror\n",
      "Calls: lapply -> FUN -> install.packages -> grep -> contrib.url\n",
      "Además: Warning message:\n",
      "In library(package, lib.loc = lib.loc, character.only = TRUE, logical.return = TRUE,  :\n",
      "  there is no package called ‘igraph’\n",
      "Ejecución interrumpida\n"
     ]
    },
    {
     "name": "stdout",
     "output_type": "stream",
     "text": [
      "Output folder:  1stPres/STN_P50/5_38-stn \n",
      "Rscript create.R 1stPres/STN_P50/6_20 1\n"
     ]
    },
    {
     "name": "stderr",
     "output_type": "stream",
     "text": [
      "Loading required package: igraph\n",
      "Error in contrib.url(repos, type) : \n",
      "  trying to use CRAN without setting a mirror\n",
      "Calls: lapply -> FUN -> install.packages -> grep -> contrib.url\n",
      "Además: Warning message:\n",
      "In library(package, lib.loc = lib.loc, character.only = TRUE, logical.return = TRUE,  :\n",
      "  there is no package called ‘igraph’\n",
      "Ejecución interrumpida\n"
     ]
    },
    {
     "name": "stdout",
     "output_type": "stream",
     "text": [
      "Output folder:  1stPres/STN_P50/6_20-stn \n",
      "Rscript create.R 1stPres/STN_P50/6_26 1\n"
     ]
    },
    {
     "name": "stderr",
     "output_type": "stream",
     "text": [
      "Loading required package: igraph\n",
      "Error in contrib.url(repos, type) : \n",
      "  trying to use CRAN without setting a mirror\n",
      "Calls: lapply -> FUN -> install.packages -> grep -> contrib.url\n",
      "Además: Warning message:\n",
      "In library(package, lib.loc = lib.loc, character.only = TRUE, logical.return = TRUE,  :\n",
      "  there is no package called ‘igraph’\n",
      "Ejecución interrumpida\n"
     ]
    },
    {
     "name": "stdout",
     "output_type": "stream",
     "text": [
      "Output folder:  1stPres/STN_P50/6_26-stn \n",
      "Rscript create.R 1stPres/STN_P50/6_32 1\n"
     ]
    },
    {
     "name": "stderr",
     "output_type": "stream",
     "text": [
      "Loading required package: igraph\n",
      "Error in contrib.url(repos, type) : \n",
      "  trying to use CRAN without setting a mirror\n",
      "Calls: lapply -> FUN -> install.packages -> grep -> contrib.url\n",
      "Además: Warning message:\n",
      "In library(package, lib.loc = lib.loc, character.only = TRUE, logical.return = TRUE,  :\n",
      "  there is no package called ‘igraph’\n",
      "Ejecución interrumpida\n"
     ]
    },
    {
     "name": "stdout",
     "output_type": "stream",
     "text": [
      "Output folder:  1stPres/STN_P50/6_32-stn \n"
     ]
    },
    {
     "name": "stderr",
     "output_type": "stream",
     "text": [
      "Loading required package: igraph\n",
      "Error in contrib.url(repos, type) : \n",
      "  trying to use CRAN without setting a mirror\n",
      "Calls: lapply -> FUN -> install.packages -> grep -> contrib.url\n",
      "Además: Warning message:\n",
      "In library(package, lib.loc = lib.loc, character.only = TRUE, logical.return = TRUE,  :\n",
      "  there is no package called ‘igraph’\n",
      "Ejecución interrumpida\n"
     ]
    }
   ],
   "source": [
    "cont = 0\n",
    "for precision in Pres:\n",
    "    for PS in Pop: \n",
    "        cont = 0\n",
    "        workpath = precision+'/STN_P'+PS\n",
    "        mkdir(workpath)\n",
    "        pathFolder = Folder.format(PS)\n",
    "        for cat in categories:\n",
    "            dirpath = workpath+'/'+cat\n",
    "            mkdir(dirpath)\n",
    "            filepath = precision + '/' + pathFolder + '/' + Prefix_file.format(PS) + files[cont] +'.out'\n",
    "            shutil.copy(filepath, dirpath)\n",
    "            comando = 'Rscript create.R {} 1'\n",
    "            comando = comando.format(dirpath)\n",
    "            print(comando)\n",
    "            system(comando)\n",
    "            comando = 'Rscript metrics-alg.R {} {}'\n",
    "            comando = comando.format(dirpath+'-stn',cat)\n",
    "            print(comando)\n",
    "            system(comando)\n",
    "            cont += 1\n",
    "        newfold = precision + '/metrics_P_'+PS\n",
    "        mkdir(newfold)\n",
    "        comando = 'mv *.csv {}'\n",
    "        comando = comando.format(newfold)\n",
    "        system(comando)\n",
    "            "
   ]
  },
  {
   "cell_type": "code",
   "execution_count": null,
   "id": "ab3e9a28",
   "metadata": {},
   "outputs": [],
   "source": []
  }
 ],
 "metadata": {
  "kernelspec": {
   "display_name": "Python 3 (ipykernel)",
   "language": "python",
   "name": "python3"
  },
  "language_info": {
   "codemirror_mode": {
    "name": "ipython",
    "version": 3
   },
   "file_extension": ".py",
   "mimetype": "text/x-python",
   "name": "python",
   "nbconvert_exporter": "python",
   "pygments_lexer": "ipython3",
   "version": "3.11.3"
  }
 },
 "nbformat": 4,
 "nbformat_minor": 5
}
